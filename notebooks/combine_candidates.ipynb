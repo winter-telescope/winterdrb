{
 "cells": [
  {
   "cell_type": "code",
   "execution_count": 9,
   "id": "61b20029",
   "metadata": {},
   "outputs": [],
   "source": [
    "from winterdrb.utils import combine_avro_files"
   ]
  },
  {
   "cell_type": "code",
   "execution_count": 10,
   "id": "df36732c-899c-40e3-9d25-580842d1e201",
   "metadata": {},
   "outputs": [],
   "source": [
    "combine_avro_files(\"20230913\")"
   ]
  }
 ],
 "metadata": {
  "kernelspec": {
   "display_name": "winterdrb",
   "language": "python",
   "name": "winterdrb"
  },
  "language_info": {
   "codemirror_mode": {
    "name": "ipython",
    "version": 3
   },
   "file_extension": ".py",
   "mimetype": "text/x-python",
   "name": "python",
   "nbconvert_exporter": "python",
   "pygments_lexer": "ipython3",
   "version": "3.11.5"
  }
 },
 "nbformat": 4,
 "nbformat_minor": 5
}
