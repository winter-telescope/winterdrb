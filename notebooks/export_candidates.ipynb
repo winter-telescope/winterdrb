{
 "cells": [
  {
   "cell_type": "code",
   "execution_count": 1,
   "id": "8c2e6906-37d7-42b8-9d10-dab86a160649",
   "metadata": {},
   "outputs": [],
   "source": [
    "import pandas as pd\n",
    "from pathlib import Path\n",
    "from astropy.time import Time\n",
    "from mirar.data import SourceBatch, SourceTable, Dataset\n",
    "from mirar.pipelines import get_pipeline\n",
    "from mirar.pipelines.winter.load_winter_image import sncosmo_filters\n",
    "from mirar.database.constraints import DBQueryConstraints\n",
    "from mirar.database.transactions.update import _update_database_entry\n",
    "from mirar.database.transactions import select_from_table\n",
    "from mirar.pipelines.winter.models import Diff\n",
    "import logging\n",
    "import numpy as np\n",
    "from tqdm import tqdm\n",
    "from astropy import units as u\n",
    "from astropy.coordinates import SkyCoord\n",
    "from winterdrb.utils.parse_data import load_avro"
   ]
  },
  {
   "cell_type": "code",
   "execution_count": 2,
   "id": "f35b2e9f-24c6-487a-8d94-7ab814efc0f3",
   "metadata": {},
   "outputs": [],
   "source": [
    "logging.basicConfig(level=\"DEBUG\")"
   ]
  },
  {
   "cell_type": "code",
   "execution_count": 3,
   "id": "cf0d8348-d272-44a6-903e-eb99e7705c3d",
   "metadata": {},
   "outputs": [],
   "source": [
    "pd.options.mode.copy_on_write = True"
   ]
  },
  {
   "cell_type": "code",
   "execution_count": 4,
   "id": "9659c1fe-0509-43c6-8171-9ad6f3e6db6e",
   "metadata": {},
   "outputs": [
    {
     "name": "stdout",
     "output_type": "stream",
     "text": [
      "Path is /Users/robertstein/Data/local_data_candidates.csv\n"
     ]
    }
   ],
   "source": [
    "# path = Path.home().joinpath(\"Data/candidates_test.csv\")\n",
    "path = Path.home().joinpath(\"Data/local_data_candidates.csv\")\n",
    "print(f\"Path is {path}\")\n",
    "assert path.exists(), \"Failed to find path\""
   ]
  },
  {
   "cell_type": "code",
   "execution_count": 5,
   "id": "5b7623a9-5c1f-428b-aa4e-8bb2ad08563e",
   "metadata": {},
   "outputs": [],
   "source": [
    "df = pd.read_csv(path)"
   ]
  },
  {
   "cell_type": "code",
   "execution_count": 6,
   "id": "d7f47ffa-2384-444b-b987-14d6366383c2",
   "metadata": {},
   "outputs": [
    {
     "name": "stdout",
     "output_type": "stream",
     "text": [
      "['candid', 'objectid', 'deprecated', 'jd', 'utctime', 'sourceid', 'diffid', 'stackid', 'fid', 'exptime', 'progname', 'isdiffpos', 'fieldid', 'ra', 'dec', 'magzpsci', 'magzpsciunc', 'diffmaglim', 'magpsf', 'sigmapsf', 'chipsf', 'magap', 'sigmagap', 'magapbig', 'sigmagapbig', 'magdiff', 'magfromlim', 'distnr', 'magnr', 'sigmagnr', 'xpos', 'ypos', 'sky', 'fwhm', 'mindtoedge', 'seeratio', 'aimage', 'bimage', 'aimagerat', 'bimagerat', 'elong', 'nneg', 'nbad', 'sumrat', 'dsnrms', 'ssnrms', 'dsdiff', 'scorr', 'rb', 'rbversion', 'ssdistnr', 'ssmagnr', 'ssnamenr', 'tooflag', 'psobjectid1', 'sgmag1', 'srmag1', 'simag1', 'szmag1', 'distpsnr1', 'sgscore1', 'psobjectid2', 'sgmag2', 'srmag2', 'simag2', 'szmag2', 'distpsnr2', 'sgscore2', 'psobjectid3', 'sgmag3', 'srmag3', 'simag3', 'szmag3', 'distpsnr3', 'sgscore3', 'tmjmag1', 'tmhmag1', 'tmkmag1', 'tmobjectid1', 'tmjmag2', 'tmhmag2', 'tmkmag2', 'tmobjectid2', 'tmjmag3', 'tmhmag3', 'tmkmag3', 'tmobjectid3', 'neargaia', 'neargaiabright', 'maggaia', 'maggaiabright']\n"
     ]
    }
   ],
   "source": [
    "print([x for x in df.columns])"
   ]
  },
  {
   "cell_type": "code",
   "execution_count": 7,
   "id": "d4b8e637-aace-4dfa-8363-114c942115b7",
   "metadata": {},
   "outputs": [
    {
     "data": {
      "text/html": [
       "<div>\n",
       "<style scoped>\n",
       "    .dataframe tbody tr th:only-of-type {\n",
       "        vertical-align: middle;\n",
       "    }\n",
       "\n",
       "    .dataframe tbody tr th {\n",
       "        vertical-align: top;\n",
       "    }\n",
       "\n",
       "    .dataframe thead th {\n",
       "        text-align: right;\n",
       "    }\n",
       "</style>\n",
       "<table border=\"1\" class=\"dataframe\">\n",
       "  <thead>\n",
       "    <tr style=\"text-align: right;\">\n",
       "      <th></th>\n",
       "      <th>candid</th>\n",
       "      <th>objectid</th>\n",
       "      <th>deprecated</th>\n",
       "      <th>jd</th>\n",
       "      <th>utctime</th>\n",
       "      <th>sourceid</th>\n",
       "      <th>diffid</th>\n",
       "      <th>stackid</th>\n",
       "      <th>fid</th>\n",
       "      <th>exptime</th>\n",
       "      <th>...</th>\n",
       "      <th>tmkmag2</th>\n",
       "      <th>tmobjectid2</th>\n",
       "      <th>tmjmag3</th>\n",
       "      <th>tmhmag3</th>\n",
       "      <th>tmkmag3</th>\n",
       "      <th>tmobjectid3</th>\n",
       "      <th>neargaia</th>\n",
       "      <th>neargaiabright</th>\n",
       "      <th>maggaia</th>\n",
       "      <th>maggaiabright</th>\n",
       "    </tr>\n",
       "  </thead>\n",
       "  <tbody>\n",
       "    <tr>\n",
       "      <th>0</th>\n",
       "      <td>48229</td>\n",
       "      <td>WNTR23aabys</td>\n",
       "      <td>False</td>\n",
       "      <td>2.460249e+06</td>\n",
       "      <td>2023-10-31 04:24:35.214-07</td>\n",
       "      <td>139650</td>\n",
       "      <td>65</td>\n",
       "      <td>10784307506</td>\n",
       "      <td>2</td>\n",
       "      <td>900</td>\n",
       "      <td>...</td>\n",
       "      <td>NaN</td>\n",
       "      <td>NaN</td>\n",
       "      <td>NaN</td>\n",
       "      <td>NaN</td>\n",
       "      <td>NaN</td>\n",
       "      <td>NaN</td>\n",
       "      <td>NaN</td>\n",
       "      <td>NaN</td>\n",
       "      <td>NaN</td>\n",
       "      <td>NaN</td>\n",
       "    </tr>\n",
       "    <tr>\n",
       "      <th>1</th>\n",
       "      <td>48080</td>\n",
       "      <td>WNTR23aabwd</td>\n",
       "      <td>True</td>\n",
       "      <td>2.460153e+06</td>\n",
       "      <td>2023-07-27 03:53:57.778-07</td>\n",
       "      <td>138215</td>\n",
       "      <td>3</td>\n",
       "      <td>9954683703</td>\n",
       "      <td>2</td>\n",
       "      <td>600</td>\n",
       "      <td>...</td>\n",
       "      <td>NaN</td>\n",
       "      <td>NaN</td>\n",
       "      <td>NaN</td>\n",
       "      <td>NaN</td>\n",
       "      <td>NaN</td>\n",
       "      <td>NaN</td>\n",
       "      <td>NaN</td>\n",
       "      <td>NaN</td>\n",
       "      <td>NaN</td>\n",
       "      <td>NaN</td>\n",
       "    </tr>\n",
       "  </tbody>\n",
       "</table>\n",
       "<p>2 rows × 91 columns</p>\n",
       "</div>"
      ],
      "text/plain": [
       "   candid     objectid  deprecated            jd                     utctime  \\\n",
       "0   48229  WNTR23aabys       False  2.460249e+06  2023-10-31 04:24:35.214-07   \n",
       "1   48080  WNTR23aabwd        True  2.460153e+06  2023-07-27 03:53:57.778-07   \n",
       "\n",
       "   sourceid  diffid      stackid  fid  exptime  ... tmkmag2  tmobjectid2  \\\n",
       "0    139650      65  10784307506    2      900  ...     NaN          NaN   \n",
       "1    138215       3   9954683703    2      600  ...     NaN          NaN   \n",
       "\n",
       "   tmjmag3  tmhmag3  tmkmag3  tmobjectid3  neargaia  neargaiabright  maggaia  \\\n",
       "0      NaN      NaN      NaN          NaN       NaN             NaN      NaN   \n",
       "1      NaN      NaN      NaN          NaN       NaN             NaN      NaN   \n",
       "\n",
       "   maggaiabright  \n",
       "0            NaN  \n",
       "1            NaN  \n",
       "\n",
       "[2 rows x 91 columns]"
      ]
     },
     "execution_count": 7,
     "metadata": {},
     "output_type": "execute_result"
    }
   ],
   "source": [
    "df"
   ]
  },
  {
   "cell_type": "code",
   "execution_count": 8,
   "id": "fccca3b4-e70d-4637-9fe7-c5c0c1a3f32c",
   "metadata": {},
   "outputs": [
    {
     "name": "stderr",
     "output_type": "stream",
     "text": [
      "  0%|                                                                                                                                                     | 0/1 [00:00<?, ?it/s]"
     ]
    },
    {
     "name": "stdout",
     "output_type": "stream",
     "text": [
      "3\n",
      "/Users/robertstein/Data/winter/20230726/avro/WINTERcamera_20230727-035357-778_mef_2_0_0_stack.resamp.diff.avro\n"
     ]
    },
    {
     "name": "stderr",
     "output_type": "stream",
     "text": [
      "100%|█████████████████████████████████████████████████████████████████████████████████████████████████████████████████████████████████████████████| 1/1 [00:00<00:00,  2.29it/s]"
     ]
    },
    {
     "name": "stdout",
     "output_type": "stream",
     "text": [
      "48080 False\n",
      "3 48080\n"
     ]
    },
    {
     "name": "stderr",
     "output_type": "stream",
     "text": [
      "\n"
     ]
    }
   ],
   "source": [
    "# Load cutouts\n",
    "for diffid in tqdm(sorted(set(df[\"diffid\"]))[:1]):\n",
    "\n",
    "    print(diffid)\n",
    "    df_cut = df[df[\"diffid\"] == diffid]\n",
    "\n",
    "    dbconstraints = DBQueryConstraints()\n",
    "    dbconstraints.add_constraint(\n",
    "        column=\"diffid\",\n",
    "        accepted_values=diffid,\n",
    "    )\n",
    "    res = select_from_table(dbconstraints, Diff.sql_model, output_columns=\"savepath\", max_num_results=1)\n",
    "    if len(res) > 0:\n",
    "        diff_path = Path(res.iloc[0])\n",
    "        avro_path = diff_path.parent.parent.joinpath(f\"avro/{diff_path.with_suffix('.avro').name}\")\n",
    "        print(avro_path)\n",
    "        if avro_path.exists():\n",
    "            avro_df = load_avro(avro_path)\n",
    "            # print(df_cut[\"candid\"])\n",
    "            for candid in df_cut[\"candid\"]:\n",
    "                print(candid, candid in avro_df[\"candid\"])\n",
    "            print(diffid, candid)"
   ]
  },
  {
   "cell_type": "code",
   "execution_count": 9,
   "id": "cb7705ff-8b1a-4b4a-85b5-3416efc63174",
   "metadata": {},
   "outputs": [
    {
     "data": {
      "text/plain": [
       "0       75118\n",
       "1       75119\n",
       "2       75120\n",
       "3       75121\n",
       "4       75122\n",
       "        ...  \n",
       "1274    76392\n",
       "1275    76393\n",
       "1276    76394\n",
       "1277    76395\n",
       "1278    76396\n",
       "Name: candid, Length: 1279, dtype: int64"
      ]
     },
     "execution_count": 9,
     "metadata": {},
     "output_type": "execute_result"
    }
   ],
   "source": [
    "avro_df[\"candid\"]"
   ]
  },
  {
   "cell_type": "code",
   "execution_count": 10,
   "id": "6b6dbc4b-f466-4eda-8d5f-d583a656fba8",
   "metadata": {
    "scrolled": true
   },
   "outputs": [
    {
     "name": "stderr",
     "output_type": "stream",
     "text": [
      "  0%|                                                                                                                                                     | 0/2 [00:00<?, ?it/s]INFO:mirar.pipelines:Found WINTER pipeline\n",
      "INFO:mirar.pipelines.base_pipeline:Using pipeline configuration send_with_history (1/1)\n",
      "DEBUG:mirar.pipelines.base_pipeline:Setting pipeline configuration to send_with_history.\n",
      "DEBUG:mirar.pipelines.base_pipeline:Initialising processor <class 'mirar.processors.database.database_selector.SelectSourcesWithMetadata'>\n",
      "DEBUG:mirar.pipelines.base_pipeline:Initialising processor <class 'mirar.processors.sources.source_table_modifier.CustomSourceTableModifier'>\n",
      "DEBUG:mirar.pipelines.base_pipeline:Initialising processor <class 'mirar.processors.skyportal.skyportal_candidate.SkyportalCandidateUploader'>\n",
      "DEBUG:mirar.pipelines.base_pipeline:Pipeline initialisation complete.\n",
      "INFO:mirar.pipelines.base_pipeline:Applying '<class 'mirar.processors.database.database_selector.SelectSourcesWithMetadata'> to 1 batches (Step 1/3)\n",
      "INFO:mirar.pipelines.base_pipeline:[<mirar.processors.database.database_selector.SelectSourcesWithMetadata object at 0x16b119cd0>]\n",
      "INFO:mirar.processors.base_processor:Running SelectSourcesWithMetadata on 1 threads\n"
     ]
    },
    {
     "name": "stdout",
     "output_type": "stream",
     "text": [
      "2023-07-27T03:53:57.778\n"
     ]
    },
    {
     "data": {
      "application/vnd.jupyter.widget-view+json": {
       "model_id": "",
       "version_major": 2,
       "version_minor": 0
      },
      "text/plain": [
       "  0%|          | 0/1 [00:00<?, ?it/s]"
      ]
     },
     "metadata": {},
     "output_type": "display_data"
    },
    {
     "name": "stderr",
     "output_type": "stream",
     "text": [
      "DEBUG:mirar.processors.database.database_selector:Query constraints: sourceid = '138215'\n",
      "DEBUG:mirar.processors.database.database_selector:Query constraints: sourceid = '138215' AND deprecated = 'False'\n",
      "INFO:mirar.pipelines.base_pipeline:Applying '<class 'mirar.processors.sources.source_table_modifier.CustomSourceTableModifier'> to 1 batches (Step 2/3)\n",
      "INFO:mirar.pipelines.base_pipeline:[Processor to modify a source dataframe using the winter_skyportal_annotator function.]\n",
      "INFO:mirar.processors.base_processor:Running CustomSourceTableModifier on 1 threads\n"
     ]
    },
    {
     "data": {
      "application/vnd.jupyter.widget-view+json": {
       "model_id": "",
       "version_major": 2,
       "version_minor": 0
      },
      "text/plain": [
       "  0%|          | 0/1 [00:00<?, ?it/s]"
      ]
     },
     "metadata": {},
     "output_type": "display_data"
    },
    {
     "name": "stderr",
     "output_type": "stream",
     "text": [
      "INFO:mirar.pipelines.base_pipeline:Applying '<class 'mirar.processors.skyportal.skyportal_candidate.SkyportalCandidateUploader'> to 1 batches (Step 3/3)\n",
      "INFO:mirar.pipelines.base_pipeline:[<mirar.processors.skyportal.skyportal_candidate.SkyportalCandidateUploader object at 0x16b12b350>]\n",
      "INFO:mirar.processors.base_processor:Running SkyportalCandidateUploader on 1 threads\n"
     ]
    },
    {
     "data": {
      "application/vnd.jupyter.widget-view+json": {
       "model_id": "",
       "version_major": 2,
       "version_minor": 0
      },
      "text/plain": [
       "  0%|          | 0/1 [00:00<?, ?it/s]"
      ]
     },
     "metadata": {},
     "output_type": "display_data"
    },
    {
     "name": "stderr",
     "output_type": "stream",
     "text": [
      "DEBUG:mirar.processors.skyportal.skyportal_candidate:Checking if WNTR23aabwd is candidate in SkyPortal\n",
      "DEBUG:urllib3.connectionpool:Starting new HTTPS connection (1): fritz.science:443\n",
      "DEBUG:urllib3.connectionpool:https://fritz.science:443 \"HEAD /api/candidates/WNTR23aabwd HTTP/1.1\" 200 0\n",
      "DEBUG:mirar.processors.skyportal.skyportal_candidate:WNTR23aabwd is candidate in SkyPortal\n",
      "DEBUG:mirar.processors.skyportal.skyportal_candidate:Checking if WNTR23aabwd is source in SkyPortal\n",
      "DEBUG:urllib3.connectionpool:https://fritz.science:443 \"HEAD /api/sources/WNTR23aabwd HTTP/1.1\" 200 0\n",
      "DEBUG:mirar.processors.skyportal.skyportal_candidate:WNTR23aabwd is source in SkyPortal\n",
      "DEBUG:mirar.processors.skyportal.skyportal_candidate:Posting metadata of WNTR23aabwd 48080 to SkyPortal\n",
      "DEBUG:urllib3.connectionpool:https://fritz.science:443 \"POST /api/candidates HTTP/1.1\" 200 136\n",
      "DEBUG:mirar.processors.skyportal.skyportal_candidate:Posted WNTR23aabwd 48080 metadata to SkyPortal\n",
      "DEBUG:urllib3.connectionpool:https://fritz.science:443 \"GET /api/sources/WNTR23aabwd/annotations HTTP/1.1\" 200 445\n",
      "DEBUG:mirar.processors.skyportal.skyportal_candidate:Got WNTR23aabwd annotations from SkyPortal\n",
      "DEBUG:mirar.processors.skyportal.skyportal_candidate:Putting annotation for WNTR23aabwd 48080 to SkyPortal\n",
      "DEBUG:urllib3.connectionpool:https://fritz.science:443 \"PUT /api/sources/WNTR23aabwd/annotations/4448087 HTTP/1.1\" 200 99\n",
      "DEBUG:mirar.processors.skyportal.skyportal_candidate:Posted updated WNTR23aabwd annotation to SkyPortal\n",
      "DEBUG:mirar.processors.skyportal.skyportal_candidate:Getting source groups info on WNTR23aabwd from SkyPortal\n",
      "DEBUG:urllib3.connectionpool:https://fritz.science:443 \"GET /api/sources/WNTR23aabwd/groups HTTP/1.1\" 200 99\n",
      "DEBUG:mirar.processors.skyportal.skyportal_candidate:Using stream_id=1005\n",
      "DEBUG:mirar.processors.skyportal.skyportal_source:Making alert photometry of WNTR23aabwd\n",
      "/Users/robertstein/Code/mirar/mirar/processors/skyportal/skyportal_source.py:207: FutureWarning: Passing a DataFrame to DataFrame.from_records is deprecated. Use set_index and/or drop to modify the DataFrame instead.\n",
      "  prv_detections = pd.DataFrame.from_records(source[SOURCE_HISTORY_KEY])\n",
      "DEBUG:mirar.processors.skyportal.skyportal_source:Posting photometry of WNTR23aabwd to SkyPortal\n",
      "DEBUG:urllib3.connectionpool:https://fritz.science:443 \"PUT /api/photometry HTTP/1.1\" 200 171\n",
      "DEBUG:mirar.processors.skyportal.skyportal_source:Posted WNTR23aabwd photometry to SkyPortal\n",
      "DEBUG:mirar.processors.skyportal.skyportal_source:Making science thumbnail for WNTR23aabwd \n",
      "ERROR:mirar.processors.skyportal.skyportal_source:Missing science cutout for WNTR23aabwd\n",
      "DEBUG:mirar.processors.skyportal.skyportal_source:Making template thumbnail for WNTR23aabwd \n",
      "ERROR:mirar.processors.skyportal.skyportal_source:Missing template cutout for WNTR23aabwd\n",
      "DEBUG:mirar.processors.skyportal.skyportal_source:Making difference thumbnail for WNTR23aabwd \n",
      "ERROR:mirar.processors.skyportal.skyportal_source:Missing difference cutout for WNTR23aabwd\n",
      "DEBUG:mirar.processors.skyportal.skyportal_candidate:SendToSkyportal Manager complete for WNTR23aabwd\n",
      "INFO:mirar.errors.error_stack:No raised errors found in processing\n",
      "ERROR:mirar.errors.error_stack:Saving tracebacks of caught errors to /Users/robertstein/Data/winter/_error_stack.txt\n",
      "ERROR:mirar.errors.error_stack:Saving tracebacks of caught errors to /Users/robertstein/Data/winter/_error_stack.tsv\n",
      " 50%|██████████████████████████████████████████████████████████████████████▌                                                                      | 1/2 [00:00<00:00,  1.00it/s]INFO:mirar.pipelines:Found WINTER pipeline\n",
      "INFO:mirar.pipelines.base_pipeline:Using pipeline configuration send_with_history (1/1)\n",
      "DEBUG:mirar.pipelines.base_pipeline:Setting pipeline configuration to send_with_history.\n",
      "DEBUG:mirar.pipelines.base_pipeline:Initialising processor <class 'mirar.processors.database.database_selector.SelectSourcesWithMetadata'>\n",
      "DEBUG:mirar.pipelines.base_pipeline:Initialising processor <class 'mirar.processors.sources.source_table_modifier.CustomSourceTableModifier'>\n",
      "DEBUG:mirar.pipelines.base_pipeline:Initialising processor <class 'mirar.processors.skyportal.skyportal_candidate.SkyportalCandidateUploader'>\n",
      "DEBUG:mirar.pipelines.base_pipeline:Pipeline initialisation complete.\n",
      "INFO:mirar.pipelines.base_pipeline:Applying '<class 'mirar.processors.database.database_selector.SelectSourcesWithMetadata'> to 1 batches (Step 1/3)\n",
      "INFO:mirar.pipelines.base_pipeline:[<mirar.processors.database.database_selector.SelectSourcesWithMetadata object at 0x16b119cd0>]\n",
      "INFO:mirar.processors.base_processor:Running SelectSourcesWithMetadata on 1 threads\n"
     ]
    },
    {
     "name": "stdout",
     "output_type": "stream",
     "text": [
      "2023-10-31T04:24:35.214\n"
     ]
    },
    {
     "data": {
      "application/vnd.jupyter.widget-view+json": {
       "model_id": "",
       "version_major": 2,
       "version_minor": 0
      },
      "text/plain": [
       "  0%|          | 0/1 [00:00<?, ?it/s]"
      ]
     },
     "metadata": {},
     "output_type": "display_data"
    },
    {
     "name": "stderr",
     "output_type": "stream",
     "text": [
      "DEBUG:mirar.processors.database.database_selector:Query constraints: sourceid = '139650'\n",
      "DEBUG:mirar.processors.database.database_selector:Query constraints: sourceid = '139650' AND deprecated = 'False'\n",
      "INFO:mirar.pipelines.base_pipeline:Applying '<class 'mirar.processors.sources.source_table_modifier.CustomSourceTableModifier'> to 1 batches (Step 2/3)\n",
      "INFO:mirar.pipelines.base_pipeline:[Processor to modify a source dataframe using the winter_skyportal_annotator function.]\n",
      "INFO:mirar.processors.base_processor:Running CustomSourceTableModifier on 1 threads\n"
     ]
    },
    {
     "data": {
      "application/vnd.jupyter.widget-view+json": {
       "model_id": "",
       "version_major": 2,
       "version_minor": 0
      },
      "text/plain": [
       "  0%|          | 0/1 [00:00<?, ?it/s]"
      ]
     },
     "metadata": {},
     "output_type": "display_data"
    },
    {
     "name": "stderr",
     "output_type": "stream",
     "text": [
      "INFO:mirar.pipelines.base_pipeline:Applying '<class 'mirar.processors.skyportal.skyportal_candidate.SkyportalCandidateUploader'> to 1 batches (Step 3/3)\n",
      "INFO:mirar.pipelines.base_pipeline:[<mirar.processors.skyportal.skyportal_candidate.SkyportalCandidateUploader object at 0x16b12b350>]\n",
      "INFO:mirar.processors.base_processor:Running SkyportalCandidateUploader on 1 threads\n"
     ]
    },
    {
     "data": {
      "application/vnd.jupyter.widget-view+json": {
       "model_id": "",
       "version_major": 2,
       "version_minor": 0
      },
      "text/plain": [
       "  0%|          | 0/1 [00:00<?, ?it/s]"
      ]
     },
     "metadata": {},
     "output_type": "display_data"
    },
    {
     "name": "stderr",
     "output_type": "stream",
     "text": [
      "DEBUG:mirar.processors.skyportal.skyportal_candidate:Checking if WNTR23aabys is candidate in SkyPortal\n",
      "DEBUG:urllib3.connectionpool:https://fritz.science:443 \"HEAD /api/candidates/WNTR23aabys HTTP/1.1\" 200 0\n",
      "DEBUG:mirar.processors.skyportal.skyportal_candidate:WNTR23aabys is candidate in SkyPortal\n",
      "DEBUG:mirar.processors.skyportal.skyportal_candidate:Checking if WNTR23aabys is source in SkyPortal\n",
      "DEBUG:urllib3.connectionpool:https://fritz.science:443 \"HEAD /api/sources/WNTR23aabys HTTP/1.1\" 200 0\n",
      "DEBUG:mirar.processors.skyportal.skyportal_candidate:WNTR23aabys is source in SkyPortal\n",
      "DEBUG:mirar.processors.skyportal.skyportal_candidate:Posting metadata of WNTR23aabys 48229 to SkyPortal\n",
      "DEBUG:urllib3.connectionpool:https://fritz.science:443 \"POST /api/candidates HTTP/1.1\" 200 136\n",
      "DEBUG:mirar.processors.skyportal.skyportal_candidate:Posted WNTR23aabys 48229 metadata to SkyPortal\n",
      "DEBUG:urllib3.connectionpool:https://fritz.science:443 \"GET /api/sources/WNTR23aabys/annotations HTTP/1.1\" 200 445\n",
      "DEBUG:mirar.processors.skyportal.skyportal_candidate:Got WNTR23aabys annotations from SkyPortal\n",
      "DEBUG:mirar.processors.skyportal.skyportal_candidate:Putting annotation for WNTR23aabys 48229 to SkyPortal\n",
      "DEBUG:urllib3.connectionpool:https://fritz.science:443 \"PUT /api/sources/WNTR23aabys/annotations/4448088 HTTP/1.1\" 200 99\n",
      "DEBUG:mirar.processors.skyportal.skyportal_candidate:Posted updated WNTR23aabys annotation to SkyPortal\n",
      "DEBUG:mirar.processors.skyportal.skyportal_candidate:Getting source groups info on WNTR23aabys from SkyPortal\n",
      "DEBUG:urllib3.connectionpool:https://fritz.science:443 \"GET /api/sources/WNTR23aabys/groups HTTP/1.1\" 200 384\n",
      "DEBUG:mirar.processors.skyportal.skyportal_source:Saving WNTR23aabys as a Source on SkyPortal\n",
      "DEBUG:urllib3.connectionpool:https://fritz.science:443 \"POST /api/sources HTTP/1.1\" 200 169\n",
      "DEBUG:mirar.processors.skyportal.skyportal_source:Saved WNTR23aabys as a Source on SkyPortal\n",
      "DEBUG:mirar.processors.skyportal.skyportal_candidate:Using stream_id=1005\n",
      "DEBUG:mirar.processors.skyportal.skyportal_source:Making alert photometry of WNTR23aabys\n",
      "/Users/robertstein/Code/mirar/mirar/processors/skyportal/skyportal_source.py:207: FutureWarning: Passing a DataFrame to DataFrame.from_records is deprecated. Use set_index and/or drop to modify the DataFrame instead.\n",
      "  prv_detections = pd.DataFrame.from_records(source[SOURCE_HISTORY_KEY])\n",
      "DEBUG:mirar.processors.skyportal.skyportal_source:Posting photometry of WNTR23aabys to SkyPortal\n",
      "DEBUG:urllib3.connectionpool:https://fritz.science:443 \"PUT /api/photometry HTTP/1.1\" 200 171\n",
      "DEBUG:mirar.processors.skyportal.skyportal_source:Posted WNTR23aabys photometry to SkyPortal\n",
      "DEBUG:mirar.processors.skyportal.skyportal_source:Making science thumbnail for WNTR23aabys \n",
      "ERROR:mirar.processors.skyportal.skyportal_source:Missing science cutout for WNTR23aabys\n",
      "DEBUG:mirar.processors.skyportal.skyportal_source:Making template thumbnail for WNTR23aabys \n",
      "ERROR:mirar.processors.skyportal.skyportal_source:Missing template cutout for WNTR23aabys\n",
      "DEBUG:mirar.processors.skyportal.skyportal_source:Making difference thumbnail for WNTR23aabys \n",
      "ERROR:mirar.processors.skyportal.skyportal_source:Missing difference cutout for WNTR23aabys\n",
      "DEBUG:mirar.processors.skyportal.skyportal_candidate:SendToSkyportal Manager complete for WNTR23aabys\n",
      "INFO:mirar.errors.error_stack:No raised errors found in processing\n",
      "ERROR:mirar.errors.error_stack:Saving tracebacks of caught errors to /Users/robertstein/Data/winter/_error_stack.txt\n",
      "ERROR:mirar.errors.error_stack:Saving tracebacks of caught errors to /Users/robertstein/Data/winter/_error_stack.tsv\n",
      "100%|█████████████████████████████████████████████████████████████████████████████████████████████████████████████████████████████████████████████| 2/2 [00:03<00:00,  1.52s/it]\n"
     ]
    }
   ],
   "source": [
    "# Export to Fritz\n",
    "for utc_str in tqdm(sorted(set(df[\"utctime\"]))):\n",
    "    pipe = get_pipeline(\"WINTER\", selected_configurations=\"name_candidates\")\n",
    "\n",
    "    dataset = Dataset()\n",
    "\n",
    "    time = Time(utc_str[:-3].replace(\" \", \"T\"), scale=\"utc\", format='isot')\n",
    "\n",
    "    df_sub = df[df[\"utctime\"] == utc_str]\n",
    "\n",
    "    print(time)\n",
    "\n",
    "    metadata = {\n",
    "        \"RAWPATH\": \"history\",\n",
    "        \"BASENAME\": \"history\",\n",
    "        \"CALSTEPS\": \"\",\n",
    "        \"DATE-OBS\": time.isot,\n",
    "        \"utctime\": time.isot,\n",
    "        \"diffmaglim\": (df_sub[\"magpsf\"] + df_sub[\"magfromlim\"]).iloc[0],\n",
    "        \"jd\": time.jd\n",
    "    }\n",
    "    df[\"DATE-OBS\"] = time.isot\n",
    "        \n",
    "    source_table = SourceTable(source_list=df_sub, metadata=metadata)\n",
    "    batch = SourceBatch()\n",
    "    batch.append(source_table)\n",
    "    dataset.append(batch)\n",
    "\n",
    "    batches, errorstack = pipe.reduce_images(dataset=dataset, catch_all_errors=False, selected_configurations=[\"send_with_history\"])"
   ]
  },
  {
   "cell_type": "code",
   "execution_count": null,
   "id": "b24dd28e-6c53-47a0-b742-3c89ed5d7a63",
   "metadata": {},
   "outputs": [],
   "source": []
  }
 ],
 "metadata": {
  "kernelspec": {
   "display_name": "winterdrb",
   "language": "python",
   "name": "winterdrb"
  },
  "language_info": {
   "codemirror_mode": {
    "name": "ipython",
    "version": 3
   },
   "file_extension": ".py",
   "mimetype": "text/x-python",
   "name": "python",
   "nbconvert_exporter": "python",
   "pygments_lexer": "ipython3",
   "version": "3.11.5"
  }
 },
 "nbformat": 4,
 "nbformat_minor": 5
}
