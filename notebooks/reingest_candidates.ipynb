{
 "cells": [
  {
   "cell_type": "code",
   "execution_count": 1,
   "id": "8c2e6906-37d7-42b8-9d10-dab86a160649",
   "metadata": {},
   "outputs": [],
   "source": [
    "import pandas as pd\n",
    "from pathlib import Path\n",
    "from astropy.time import Time\n",
    "from mirar.data import SourceBatch, SourceTable, Dataset\n",
    "from mirar.pipelines import get_pipeline\n",
    "from mirar.database.constraints import DBQueryConstraints\n",
    "from mirar.database.transactions.update import _update_database_entry\n",
    "from mirar.pipelines.winter.models import Candidate\n",
    "import logging\n",
    "import numpy as np\n",
    "from tqdm import tqdm"
   ]
  },
  {
   "cell_type": "code",
   "execution_count": 2,
   "id": "cf0d8348-d272-44a6-903e-eb99e7705c3d",
   "metadata": {},
   "outputs": [],
   "source": [
    "pd.options.mode.copy_on_write = True"
   ]
  },
  {
   "cell_type": "code",
   "execution_count": 3,
   "id": "4d4cfe57-d1e5-48aa-be1c-326a790d57ff",
   "metadata": {},
   "outputs": [],
   "source": [
    "# logging.basicConfig(level=logging.INFO)"
   ]
  },
  {
   "cell_type": "code",
   "execution_count": 4,
   "id": "9659c1fe-0509-43c6-8171-9ad6f3e6db6e",
   "metadata": {},
   "outputs": [
    {
     "name": "stdout",
     "output_type": "stream",
     "text": [
      "Path is /Users/robertstein/export_candidates.csv\n"
     ]
    }
   ],
   "source": [
    "path = Path.home().joinpath(\"Downloads/candidate_names_20240220.csv\")\n",
    "path = Path.home().joinpath(\"export_candidates.csv\")\n",
    "print(f\"Path is {path}\")\n",
    "assert path.exists, \"Failed to find path\""
   ]
  },
  {
   "cell_type": "code",
   "execution_count": 5,
   "id": "5b7623a9-5c1f-428b-aa4e-8bb2ad08563e",
   "metadata": {},
   "outputs": [],
   "source": [
    "df = pd.read_csv(path)\n",
    "df.drop([\"objectid\", \"candid\", \"sourceid\"], axis=1, inplace=True)"
   ]
  },
  {
   "cell_type": "code",
   "execution_count": 6,
   "id": "d4b8e637-aace-4dfa-8363-114c942115b7",
   "metadata": {},
   "outputs": [
    {
     "data": {
      "text/html": [
       "<div>\n",
       "<style scoped>\n",
       "    .dataframe tbody tr th:only-of-type {\n",
       "        vertical-align: middle;\n",
       "    }\n",
       "\n",
       "    .dataframe tbody tr th {\n",
       "        vertical-align: top;\n",
       "    }\n",
       "\n",
       "    .dataframe thead th {\n",
       "        text-align: right;\n",
       "    }\n",
       "</style>\n",
       "<table border=\"1\" class=\"dataframe\">\n",
       "  <thead>\n",
       "    <tr style=\"text-align: right;\">\n",
       "      <th></th>\n",
       "      <th>deprecated</th>\n",
       "      <th>jd</th>\n",
       "      <th>diffid</th>\n",
       "      <th>stackid</th>\n",
       "      <th>fid</th>\n",
       "      <th>exptime</th>\n",
       "      <th>progname</th>\n",
       "      <th>isdiffpos</th>\n",
       "      <th>fieldid</th>\n",
       "      <th>ra</th>\n",
       "      <th>...</th>\n",
       "      <th>tmkmag2</th>\n",
       "      <th>tmobjectid2</th>\n",
       "      <th>tmjmag3</th>\n",
       "      <th>tmhmag3</th>\n",
       "      <th>tmkmag3</th>\n",
       "      <th>tmobjectid3</th>\n",
       "      <th>neargaia</th>\n",
       "      <th>neargaiabright</th>\n",
       "      <th>maggaia</th>\n",
       "      <th>maggaiabright</th>\n",
       "    </tr>\n",
       "  </thead>\n",
       "  <tbody>\n",
       "    <tr>\n",
       "      <th>282</th>\n",
       "      <td>f</td>\n",
       "      <td>2.460113e+06</td>\n",
       "      <td>3</td>\n",
       "      <td>9954683705</td>\n",
       "      <td>2</td>\n",
       "      <td>600</td>\n",
       "      <td>2001A000</td>\n",
       "      <td>t</td>\n",
       "      <td>3944</td>\n",
       "      <td>211.234943</td>\n",
       "      <td>...</td>\n",
       "      <td>NaN</td>\n",
       "      <td>NaN</td>\n",
       "      <td>NaN</td>\n",
       "      <td>NaN</td>\n",
       "      <td>NaN</td>\n",
       "      <td>NaN</td>\n",
       "      <td>NaN</td>\n",
       "      <td>NaN</td>\n",
       "      <td>NaN</td>\n",
       "      <td>NaN</td>\n",
       "    </tr>\n",
       "    <tr>\n",
       "      <th>0</th>\n",
       "      <td>f</td>\n",
       "      <td>2.460153e+06</td>\n",
       "      <td>3</td>\n",
       "      <td>9954683703</td>\n",
       "      <td>2</td>\n",
       "      <td>600</td>\n",
       "      <td>2001A000</td>\n",
       "      <td>t</td>\n",
       "      <td>3944</td>\n",
       "      <td>211.036962</td>\n",
       "      <td>...</td>\n",
       "      <td>NaN</td>\n",
       "      <td>NaN</td>\n",
       "      <td>NaN</td>\n",
       "      <td>NaN</td>\n",
       "      <td>NaN</td>\n",
       "      <td>NaN</td>\n",
       "      <td>NaN</td>\n",
       "      <td>NaN</td>\n",
       "      <td>NaN</td>\n",
       "      <td>NaN</td>\n",
       "    </tr>\n",
       "    <tr>\n",
       "      <th>10207</th>\n",
       "      <td>t</td>\n",
       "      <td>2.460153e+06</td>\n",
       "      <td>3</td>\n",
       "      <td>9954683703</td>\n",
       "      <td>2</td>\n",
       "      <td>600</td>\n",
       "      <td>2001A000</td>\n",
       "      <td>t</td>\n",
       "      <td>3944</td>\n",
       "      <td>210.719983</td>\n",
       "      <td>...</td>\n",
       "      <td>NaN</td>\n",
       "      <td>NaN</td>\n",
       "      <td>NaN</td>\n",
       "      <td>NaN</td>\n",
       "      <td>NaN</td>\n",
       "      <td>NaN</td>\n",
       "      <td>NaN</td>\n",
       "      <td>NaN</td>\n",
       "      <td>NaN</td>\n",
       "      <td>NaN</td>\n",
       "    </tr>\n",
       "    <tr>\n",
       "      <th>10208</th>\n",
       "      <td>t</td>\n",
       "      <td>2.460153e+06</td>\n",
       "      <td>3</td>\n",
       "      <td>9954683703</td>\n",
       "      <td>2</td>\n",
       "      <td>600</td>\n",
       "      <td>2001A000</td>\n",
       "      <td>t</td>\n",
       "      <td>3944</td>\n",
       "      <td>210.678061</td>\n",
       "      <td>...</td>\n",
       "      <td>NaN</td>\n",
       "      <td>NaN</td>\n",
       "      <td>NaN</td>\n",
       "      <td>NaN</td>\n",
       "      <td>NaN</td>\n",
       "      <td>NaN</td>\n",
       "      <td>NaN</td>\n",
       "      <td>NaN</td>\n",
       "      <td>NaN</td>\n",
       "      <td>NaN</td>\n",
       "    </tr>\n",
       "    <tr>\n",
       "      <th>10209</th>\n",
       "      <td>t</td>\n",
       "      <td>2.460153e+06</td>\n",
       "      <td>3</td>\n",
       "      <td>9954683703</td>\n",
       "      <td>2</td>\n",
       "      <td>600</td>\n",
       "      <td>2001A000</td>\n",
       "      <td>t</td>\n",
       "      <td>3944</td>\n",
       "      <td>210.648139</td>\n",
       "      <td>...</td>\n",
       "      <td>NaN</td>\n",
       "      <td>NaN</td>\n",
       "      <td>NaN</td>\n",
       "      <td>NaN</td>\n",
       "      <td>NaN</td>\n",
       "      <td>NaN</td>\n",
       "      <td>NaN</td>\n",
       "      <td>NaN</td>\n",
       "      <td>NaN</td>\n",
       "      <td>NaN</td>\n",
       "    </tr>\n",
       "    <tr>\n",
       "      <th>...</th>\n",
       "      <td>...</td>\n",
       "      <td>...</td>\n",
       "      <td>...</td>\n",
       "      <td>...</td>\n",
       "      <td>...</td>\n",
       "      <td>...</td>\n",
       "      <td>...</td>\n",
       "      <td>...</td>\n",
       "      <td>...</td>\n",
       "      <td>...</td>\n",
       "      <td>...</td>\n",
       "      <td>...</td>\n",
       "      <td>...</td>\n",
       "      <td>...</td>\n",
       "      <td>...</td>\n",
       "      <td>...</td>\n",
       "      <td>...</td>\n",
       "      <td>...</td>\n",
       "      <td>...</td>\n",
       "      <td>...</td>\n",
       "      <td>...</td>\n",
       "    </tr>\n",
       "    <tr>\n",
       "      <th>6122</th>\n",
       "      <td>t</td>\n",
       "      <td>2.460249e+06</td>\n",
       "      <td>65</td>\n",
       "      <td>10784307506</td>\n",
       "      <td>2</td>\n",
       "      <td>900</td>\n",
       "      <td>2001A000</td>\n",
       "      <td>t</td>\n",
       "      <td>999999999</td>\n",
       "      <td>349.991030</td>\n",
       "      <td>...</td>\n",
       "      <td>NaN</td>\n",
       "      <td>NaN</td>\n",
       "      <td>NaN</td>\n",
       "      <td>NaN</td>\n",
       "      <td>NaN</td>\n",
       "      <td>NaN</td>\n",
       "      <td>NaN</td>\n",
       "      <td>NaN</td>\n",
       "      <td>NaN</td>\n",
       "      <td>NaN</td>\n",
       "    </tr>\n",
       "    <tr>\n",
       "      <th>1617</th>\n",
       "      <td>f</td>\n",
       "      <td>2.460249e+06</td>\n",
       "      <td>65</td>\n",
       "      <td>10784307506</td>\n",
       "      <td>2</td>\n",
       "      <td>900</td>\n",
       "      <td>2001A000</td>\n",
       "      <td>t</td>\n",
       "      <td>999999999</td>\n",
       "      <td>350.338046</td>\n",
       "      <td>...</td>\n",
       "      <td>NaN</td>\n",
       "      <td>NaN</td>\n",
       "      <td>NaN</td>\n",
       "      <td>NaN</td>\n",
       "      <td>NaN</td>\n",
       "      <td>NaN</td>\n",
       "      <td>NaN</td>\n",
       "      <td>NaN</td>\n",
       "      <td>NaN</td>\n",
       "      <td>NaN</td>\n",
       "    </tr>\n",
       "    <tr>\n",
       "      <th>6138</th>\n",
       "      <td>t</td>\n",
       "      <td>2.460249e+06</td>\n",
       "      <td>65</td>\n",
       "      <td>10784307506</td>\n",
       "      <td>2</td>\n",
       "      <td>900</td>\n",
       "      <td>2001A000</td>\n",
       "      <td>t</td>\n",
       "      <td>999999999</td>\n",
       "      <td>350.335105</td>\n",
       "      <td>...</td>\n",
       "      <td>NaN</td>\n",
       "      <td>NaN</td>\n",
       "      <td>NaN</td>\n",
       "      <td>NaN</td>\n",
       "      <td>NaN</td>\n",
       "      <td>NaN</td>\n",
       "      <td>NaN</td>\n",
       "      <td>NaN</td>\n",
       "      <td>NaN</td>\n",
       "      <td>NaN</td>\n",
       "    </tr>\n",
       "    <tr>\n",
       "      <th>6089</th>\n",
       "      <td>t</td>\n",
       "      <td>2.460249e+06</td>\n",
       "      <td>65</td>\n",
       "      <td>10784307506</td>\n",
       "      <td>2</td>\n",
       "      <td>900</td>\n",
       "      <td>2001A000</td>\n",
       "      <td>t</td>\n",
       "      <td>999999999</td>\n",
       "      <td>350.319281</td>\n",
       "      <td>...</td>\n",
       "      <td>NaN</td>\n",
       "      <td>NaN</td>\n",
       "      <td>NaN</td>\n",
       "      <td>NaN</td>\n",
       "      <td>NaN</td>\n",
       "      <td>NaN</td>\n",
       "      <td>NaN</td>\n",
       "      <td>NaN</td>\n",
       "      <td>NaN</td>\n",
       "      <td>NaN</td>\n",
       "    </tr>\n",
       "    <tr>\n",
       "      <th>2011</th>\n",
       "      <td>t</td>\n",
       "      <td>2.460249e+06</td>\n",
       "      <td>65</td>\n",
       "      <td>10784307506</td>\n",
       "      <td>2</td>\n",
       "      <td>900</td>\n",
       "      <td>2001A000</td>\n",
       "      <td>t</td>\n",
       "      <td>999999999</td>\n",
       "      <td>350.262290</td>\n",
       "      <td>...</td>\n",
       "      <td>NaN</td>\n",
       "      <td>NaN</td>\n",
       "      <td>NaN</td>\n",
       "      <td>NaN</td>\n",
       "      <td>NaN</td>\n",
       "      <td>NaN</td>\n",
       "      <td>NaN</td>\n",
       "      <td>NaN</td>\n",
       "      <td>NaN</td>\n",
       "      <td>NaN</td>\n",
       "    </tr>\n",
       "  </tbody>\n",
       "</table>\n",
       "<p>15867 rows × 87 columns</p>\n",
       "</div>"
      ],
      "text/plain": [
       "      deprecated            jd  diffid      stackid  fid  exptime  progname  \\\n",
       "282            f  2.460113e+06       3   9954683705    2      600  2001A000   \n",
       "0              f  2.460153e+06       3   9954683703    2      600  2001A000   \n",
       "10207          t  2.460153e+06       3   9954683703    2      600  2001A000   \n",
       "10208          t  2.460153e+06       3   9954683703    2      600  2001A000   \n",
       "10209          t  2.460153e+06       3   9954683703    2      600  2001A000   \n",
       "...          ...           ...     ...          ...  ...      ...       ...   \n",
       "6122           t  2.460249e+06      65  10784307506    2      900  2001A000   \n",
       "1617           f  2.460249e+06      65  10784307506    2      900  2001A000   \n",
       "6138           t  2.460249e+06      65  10784307506    2      900  2001A000   \n",
       "6089           t  2.460249e+06      65  10784307506    2      900  2001A000   \n",
       "2011           t  2.460249e+06      65  10784307506    2      900  2001A000   \n",
       "\n",
       "      isdiffpos    fieldid          ra  ...  tmkmag2  tmobjectid2  tmjmag3  \\\n",
       "282           t       3944  211.234943  ...      NaN          NaN      NaN   \n",
       "0             t       3944  211.036962  ...      NaN          NaN      NaN   \n",
       "10207         t       3944  210.719983  ...      NaN          NaN      NaN   \n",
       "10208         t       3944  210.678061  ...      NaN          NaN      NaN   \n",
       "10209         t       3944  210.648139  ...      NaN          NaN      NaN   \n",
       "...         ...        ...         ...  ...      ...          ...      ...   \n",
       "6122          t  999999999  349.991030  ...      NaN          NaN      NaN   \n",
       "1617          t  999999999  350.338046  ...      NaN          NaN      NaN   \n",
       "6138          t  999999999  350.335105  ...      NaN          NaN      NaN   \n",
       "6089          t  999999999  350.319281  ...      NaN          NaN      NaN   \n",
       "2011          t  999999999  350.262290  ...      NaN          NaN      NaN   \n",
       "\n",
       "       tmhmag3  tmkmag3  tmobjectid3  neargaia  neargaiabright  maggaia  \\\n",
       "282        NaN      NaN          NaN       NaN             NaN      NaN   \n",
       "0          NaN      NaN          NaN       NaN             NaN      NaN   \n",
       "10207      NaN      NaN          NaN       NaN             NaN      NaN   \n",
       "10208      NaN      NaN          NaN       NaN             NaN      NaN   \n",
       "10209      NaN      NaN          NaN       NaN             NaN      NaN   \n",
       "...        ...      ...          ...       ...             ...      ...   \n",
       "6122       NaN      NaN          NaN       NaN             NaN      NaN   \n",
       "1617       NaN      NaN          NaN       NaN             NaN      NaN   \n",
       "6138       NaN      NaN          NaN       NaN             NaN      NaN   \n",
       "6089       NaN      NaN          NaN       NaN             NaN      NaN   \n",
       "2011       NaN      NaN          NaN       NaN             NaN      NaN   \n",
       "\n",
       "       maggaiabright  \n",
       "282              NaN  \n",
       "0                NaN  \n",
       "10207            NaN  \n",
       "10208            NaN  \n",
       "10209            NaN  \n",
       "...              ...  \n",
       "6122             NaN  \n",
       "1617             NaN  \n",
       "6138             NaN  \n",
       "6089             NaN  \n",
       "2011             NaN  \n",
       "\n",
       "[15867 rows x 87 columns]"
      ]
     },
     "execution_count": 6,
     "metadata": {},
     "output_type": "execute_result"
    }
   ],
   "source": [
    "df.sort_values(by=\"jd\", inplace=True)\n",
    "df"
   ]
  },
  {
   "cell_type": "code",
   "execution_count": 7,
   "id": "25982d3d-dac7-4192-b28d-b9b3977598c1",
   "metadata": {
    "scrolled": true
   },
   "outputs": [
    {
     "name": "stderr",
     "output_type": "stream",
     "text": [
      "  0%|                                                                                                        | 0/6 [00:00<?, ?it/s]"
     ]
    },
    {
     "data": {
      "application/vnd.jupyter.widget-view+json": {
       "model_id": "",
       "version_major": 2,
       "version_minor": 0
      },
      "text/plain": [
       "  0%|          | 0/1 [00:00<?, ?it/s]"
      ]
     },
     "metadata": {},
     "output_type": "display_data"
    },
    {
     "data": {
      "application/vnd.jupyter.widget-view+json": {
       "model_id": "",
       "version_major": 2,
       "version_minor": 0
      },
      "text/plain": [
       "  0%|          | 0/1 [00:00<?, ?it/s]"
      ]
     },
     "metadata": {},
     "output_type": "display_data"
    },
    {
     "data": {
      "application/vnd.jupyter.widget-view+json": {
       "model_id": "",
       "version_major": 2,
       "version_minor": 0
      },
      "text/plain": [
       "  0%|          | 0/1 [00:00<?, ?it/s]"
      ]
     },
     "metadata": {},
     "output_type": "display_data"
    },
    {
     "data": {
      "application/vnd.jupyter.widget-view+json": {
       "model_id": "",
       "version_major": 2,
       "version_minor": 0
      },
      "text/plain": [
       "  0%|          | 0/1 [00:00<?, ?it/s]"
      ]
     },
     "metadata": {},
     "output_type": "display_data"
    },
    {
     "data": {
      "application/vnd.jupyter.widget-view+json": {
       "model_id": "",
       "version_major": 2,
       "version_minor": 0
      },
      "text/plain": [
       "  0%|          | 0/1 [00:00<?, ?it/s]"
      ]
     },
     "metadata": {},
     "output_type": "display_data"
    },
    {
     "data": {
      "application/vnd.jupyter.widget-view+json": {
       "model_id": "",
       "version_major": 2,
       "version_minor": 0
      },
      "text/plain": [
       "  0%|          | 0/1 [00:00<?, ?it/s]"
      ]
     },
     "metadata": {},
     "output_type": "display_data"
    },
    {
     "data": {
      "application/vnd.jupyter.widget-view+json": {
       "model_id": "",
       "version_major": 2,
       "version_minor": 0
      },
      "text/plain": [
       "  0%|          | 0/1 [00:00<?, ?it/s]"
      ]
     },
     "metadata": {},
     "output_type": "display_data"
    },
    {
     "data": {
      "application/vnd.jupyter.widget-view+json": {
       "model_id": "",
       "version_major": 2,
       "version_minor": 0
      },
      "text/plain": [
       "  0%|          | 0/1 [00:00<?, ?it/s]"
      ]
     },
     "metadata": {},
     "output_type": "display_data"
    },
    {
     "data": {
      "application/vnd.jupyter.widget-view+json": {
       "model_id": "",
       "version_major": 2,
       "version_minor": 0
      },
      "text/plain": [
       "  0%|          | 0/1 [00:00<?, ?it/s]"
      ]
     },
     "metadata": {},
     "output_type": "display_data"
    },
    {
     "name": "stderr",
     "output_type": "stream",
     "text": [
      "Saving tracebacks of caught errors to /Users/robertstein/Data/winter/_error_stack.txt\n",
      "Saving tracebacks of caught errors to /Users/robertstein/Data/winter/_error_stack.tsv\n",
      " 17%|████████████████                                                                                | 1/6 [00:00<00:01,  4.64it/s]"
     ]
    },
    {
     "data": {
      "application/vnd.jupyter.widget-view+json": {
       "model_id": "",
       "version_major": 2,
       "version_minor": 0
      },
      "text/plain": [
       "  0%|          | 0/3 [00:00<?, ?it/s]"
      ]
     },
     "metadata": {},
     "output_type": "display_data"
    },
    {
     "data": {
      "application/vnd.jupyter.widget-view+json": {
       "model_id": "",
       "version_major": 2,
       "version_minor": 0
      },
      "text/plain": [
       "  0%|          | 0/3 [00:00<?, ?it/s]"
      ]
     },
     "metadata": {},
     "output_type": "display_data"
    },
    {
     "data": {
      "application/vnd.jupyter.widget-view+json": {
       "model_id": "",
       "version_major": 2,
       "version_minor": 0
      },
      "text/plain": [
       "  0%|          | 0/3 [00:00<?, ?it/s]"
      ]
     },
     "metadata": {},
     "output_type": "display_data"
    },
    {
     "data": {
      "application/vnd.jupyter.widget-view+json": {
       "model_id": "",
       "version_major": 2,
       "version_minor": 0
      },
      "text/plain": [
       "  0%|          | 0/3 [00:00<?, ?it/s]"
      ]
     },
     "metadata": {},
     "output_type": "display_data"
    },
    {
     "data": {
      "application/vnd.jupyter.widget-view+json": {
       "model_id": "",
       "version_major": 2,
       "version_minor": 0
      },
      "text/plain": [
       "  0%|          | 0/3 [00:00<?, ?it/s]"
      ]
     },
     "metadata": {},
     "output_type": "display_data"
    },
    {
     "data": {
      "application/vnd.jupyter.widget-view+json": {
       "model_id": "",
       "version_major": 2,
       "version_minor": 0
      },
      "text/plain": [
       "  0%|          | 0/3 [00:00<?, ?it/s]"
      ]
     },
     "metadata": {},
     "output_type": "display_data"
    },
    {
     "data": {
      "application/vnd.jupyter.widget-view+json": {
       "model_id": "",
       "version_major": 2,
       "version_minor": 0
      },
      "text/plain": [
       "  0%|          | 0/3 [00:00<?, ?it/s]"
      ]
     },
     "metadata": {},
     "output_type": "display_data"
    },
    {
     "data": {
      "application/vnd.jupyter.widget-view+json": {
       "model_id": "",
       "version_major": 2,
       "version_minor": 0
      },
      "text/plain": [
       "  0%|          | 0/3 [00:00<?, ?it/s]"
      ]
     },
     "metadata": {},
     "output_type": "display_data"
    },
    {
     "data": {
      "application/vnd.jupyter.widget-view+json": {
       "model_id": "",
       "version_major": 2,
       "version_minor": 0
      },
      "text/plain": [
       "  0%|          | 0/3 [00:00<?, ?it/s]"
      ]
     },
     "metadata": {},
     "output_type": "display_data"
    },
    {
     "name": "stderr",
     "output_type": "stream",
     "text": [
      "Saving tracebacks of caught errors to /Users/robertstein/Data/winter/_error_stack.txt\n",
      "Saving tracebacks of caught errors to /Users/robertstein/Data/winter/_error_stack.tsv\n",
      " 33%|████████████████████████████████                                                                | 2/6 [00:05<00:13,  3.28s/it]"
     ]
    },
    {
     "data": {
      "application/vnd.jupyter.widget-view+json": {
       "model_id": "",
       "version_major": 2,
       "version_minor": 0
      },
      "text/plain": [
       "  0%|          | 0/3 [00:00<?, ?it/s]"
      ]
     },
     "metadata": {},
     "output_type": "display_data"
    },
    {
     "data": {
      "application/vnd.jupyter.widget-view+json": {
       "model_id": "",
       "version_major": 2,
       "version_minor": 0
      },
      "text/plain": [
       "  0%|          | 0/3 [00:00<?, ?it/s]"
      ]
     },
     "metadata": {},
     "output_type": "display_data"
    },
    {
     "data": {
      "application/vnd.jupyter.widget-view+json": {
       "model_id": "",
       "version_major": 2,
       "version_minor": 0
      },
      "text/plain": [
       "  0%|          | 0/3 [00:00<?, ?it/s]"
      ]
     },
     "metadata": {},
     "output_type": "display_data"
    },
    {
     "data": {
      "application/vnd.jupyter.widget-view+json": {
       "model_id": "",
       "version_major": 2,
       "version_minor": 0
      },
      "text/plain": [
       "  0%|          | 0/3 [00:00<?, ?it/s]"
      ]
     },
     "metadata": {},
     "output_type": "display_data"
    },
    {
     "data": {
      "application/vnd.jupyter.widget-view+json": {
       "model_id": "",
       "version_major": 2,
       "version_minor": 0
      },
      "text/plain": [
       "  0%|          | 0/3 [00:00<?, ?it/s]"
      ]
     },
     "metadata": {},
     "output_type": "display_data"
    },
    {
     "data": {
      "application/vnd.jupyter.widget-view+json": {
       "model_id": "",
       "version_major": 2,
       "version_minor": 0
      },
      "text/plain": [
       "  0%|          | 0/3 [00:00<?, ?it/s]"
      ]
     },
     "metadata": {},
     "output_type": "display_data"
    },
    {
     "data": {
      "application/vnd.jupyter.widget-view+json": {
       "model_id": "",
       "version_major": 2,
       "version_minor": 0
      },
      "text/plain": [
       "  0%|          | 0/3 [00:00<?, ?it/s]"
      ]
     },
     "metadata": {},
     "output_type": "display_data"
    },
    {
     "data": {
      "application/vnd.jupyter.widget-view+json": {
       "model_id": "",
       "version_major": 2,
       "version_minor": 0
      },
      "text/plain": [
       "  0%|          | 0/3 [00:00<?, ?it/s]"
      ]
     },
     "metadata": {},
     "output_type": "display_data"
    },
    {
     "data": {
      "application/vnd.jupyter.widget-view+json": {
       "model_id": "",
       "version_major": 2,
       "version_minor": 0
      },
      "text/plain": [
       "  0%|          | 0/3 [00:00<?, ?it/s]"
      ]
     },
     "metadata": {},
     "output_type": "display_data"
    },
    {
     "name": "stderr",
     "output_type": "stream",
     "text": [
      "Saving tracebacks of caught errors to /Users/robertstein/Data/winter/_error_stack.txt\n",
      "Saving tracebacks of caught errors to /Users/robertstein/Data/winter/_error_stack.tsv\n",
      " 50%|████████████████████████████████████████████████                                                | 3/6 [00:10<00:12,  4.10s/it]"
     ]
    },
    {
     "data": {
      "application/vnd.jupyter.widget-view+json": {
       "model_id": "",
       "version_major": 2,
       "version_minor": 0
      },
      "text/plain": [
       "  0%|          | 0/3 [00:00<?, ?it/s]"
      ]
     },
     "metadata": {},
     "output_type": "display_data"
    },
    {
     "data": {
      "application/vnd.jupyter.widget-view+json": {
       "model_id": "",
       "version_major": 2,
       "version_minor": 0
      },
      "text/plain": [
       "  0%|          | 0/3 [00:00<?, ?it/s]"
      ]
     },
     "metadata": {},
     "output_type": "display_data"
    },
    {
     "data": {
      "application/vnd.jupyter.widget-view+json": {
       "model_id": "",
       "version_major": 2,
       "version_minor": 0
      },
      "text/plain": [
       "  0%|          | 0/3 [00:00<?, ?it/s]"
      ]
     },
     "metadata": {},
     "output_type": "display_data"
    },
    {
     "data": {
      "application/vnd.jupyter.widget-view+json": {
       "model_id": "",
       "version_major": 2,
       "version_minor": 0
      },
      "text/plain": [
       "  0%|          | 0/3 [00:00<?, ?it/s]"
      ]
     },
     "metadata": {},
     "output_type": "display_data"
    },
    {
     "data": {
      "application/vnd.jupyter.widget-view+json": {
       "model_id": "",
       "version_major": 2,
       "version_minor": 0
      },
      "text/plain": [
       "  0%|          | 0/3 [00:00<?, ?it/s]"
      ]
     },
     "metadata": {},
     "output_type": "display_data"
    },
    {
     "data": {
      "application/vnd.jupyter.widget-view+json": {
       "model_id": "",
       "version_major": 2,
       "version_minor": 0
      },
      "text/plain": [
       "  0%|          | 0/3 [00:00<?, ?it/s]"
      ]
     },
     "metadata": {},
     "output_type": "display_data"
    },
    {
     "data": {
      "application/vnd.jupyter.widget-view+json": {
       "model_id": "",
       "version_major": 2,
       "version_minor": 0
      },
      "text/plain": [
       "  0%|          | 0/3 [00:00<?, ?it/s]"
      ]
     },
     "metadata": {},
     "output_type": "display_data"
    },
    {
     "data": {
      "application/vnd.jupyter.widget-view+json": {
       "model_id": "",
       "version_major": 2,
       "version_minor": 0
      },
      "text/plain": [
       "  0%|          | 0/3 [00:00<?, ?it/s]"
      ]
     },
     "metadata": {},
     "output_type": "display_data"
    },
    {
     "data": {
      "application/vnd.jupyter.widget-view+json": {
       "model_id": "",
       "version_major": 2,
       "version_minor": 0
      },
      "text/plain": [
       "  0%|          | 0/3 [00:00<?, ?it/s]"
      ]
     },
     "metadata": {},
     "output_type": "display_data"
    },
    {
     "name": "stderr",
     "output_type": "stream",
     "text": [
      "Saving tracebacks of caught errors to /Users/robertstein/Data/winter/_error_stack.txt\n",
      "Saving tracebacks of caught errors to /Users/robertstein/Data/winter/_error_stack.tsv\n",
      " 67%|████████████████████████████████████████████████████████████████                                | 4/6 [00:15<00:08,  4.27s/it]"
     ]
    },
    {
     "data": {
      "application/vnd.jupyter.widget-view+json": {
       "model_id": "",
       "version_major": 2,
       "version_minor": 0
      },
      "text/plain": [
       "  0%|          | 0/3 [00:00<?, ?it/s]"
      ]
     },
     "metadata": {},
     "output_type": "display_data"
    },
    {
     "data": {
      "application/vnd.jupyter.widget-view+json": {
       "model_id": "",
       "version_major": 2,
       "version_minor": 0
      },
      "text/plain": [
       "  0%|          | 0/3 [00:00<?, ?it/s]"
      ]
     },
     "metadata": {},
     "output_type": "display_data"
    },
    {
     "data": {
      "application/vnd.jupyter.widget-view+json": {
       "model_id": "",
       "version_major": 2,
       "version_minor": 0
      },
      "text/plain": [
       "  0%|          | 0/3 [00:00<?, ?it/s]"
      ]
     },
     "metadata": {},
     "output_type": "display_data"
    },
    {
     "data": {
      "application/vnd.jupyter.widget-view+json": {
       "model_id": "",
       "version_major": 2,
       "version_minor": 0
      },
      "text/plain": [
       "  0%|          | 0/3 [00:00<?, ?it/s]"
      ]
     },
     "metadata": {},
     "output_type": "display_data"
    },
    {
     "data": {
      "application/vnd.jupyter.widget-view+json": {
       "model_id": "",
       "version_major": 2,
       "version_minor": 0
      },
      "text/plain": [
       "  0%|          | 0/3 [00:00<?, ?it/s]"
      ]
     },
     "metadata": {},
     "output_type": "display_data"
    },
    {
     "data": {
      "application/vnd.jupyter.widget-view+json": {
       "model_id": "",
       "version_major": 2,
       "version_minor": 0
      },
      "text/plain": [
       "  0%|          | 0/3 [00:00<?, ?it/s]"
      ]
     },
     "metadata": {},
     "output_type": "display_data"
    },
    {
     "data": {
      "application/vnd.jupyter.widget-view+json": {
       "model_id": "",
       "version_major": 2,
       "version_minor": 0
      },
      "text/plain": [
       "  0%|          | 0/3 [00:00<?, ?it/s]"
      ]
     },
     "metadata": {},
     "output_type": "display_data"
    },
    {
     "data": {
      "application/vnd.jupyter.widget-view+json": {
       "model_id": "",
       "version_major": 2,
       "version_minor": 0
      },
      "text/plain": [
       "  0%|          | 0/3 [00:00<?, ?it/s]"
      ]
     },
     "metadata": {},
     "output_type": "display_data"
    },
    {
     "data": {
      "application/vnd.jupyter.widget-view+json": {
       "model_id": "",
       "version_major": 2,
       "version_minor": 0
      },
      "text/plain": [
       "  0%|          | 0/3 [00:00<?, ?it/s]"
      ]
     },
     "metadata": {},
     "output_type": "display_data"
    },
    {
     "name": "stderr",
     "output_type": "stream",
     "text": [
      "Saving tracebacks of caught errors to /Users/robertstein/Data/winter/_error_stack.txt\n",
      "Saving tracebacks of caught errors to /Users/robertstein/Data/winter/_error_stack.tsv\n",
      " 83%|████████████████████████████████████████████████████████████████████████████████                | 5/6 [00:19<00:04,  4.44s/it]"
     ]
    },
    {
     "data": {
      "application/vnd.jupyter.widget-view+json": {
       "model_id": "",
       "version_major": 2,
       "version_minor": 0
      },
      "text/plain": [
       "  0%|          | 0/3 [00:00<?, ?it/s]"
      ]
     },
     "metadata": {},
     "output_type": "display_data"
    },
    {
     "data": {
      "application/vnd.jupyter.widget-view+json": {
       "model_id": "",
       "version_major": 2,
       "version_minor": 0
      },
      "text/plain": [
       "  0%|          | 0/3 [00:00<?, ?it/s]"
      ]
     },
     "metadata": {},
     "output_type": "display_data"
    },
    {
     "data": {
      "application/vnd.jupyter.widget-view+json": {
       "model_id": "",
       "version_major": 2,
       "version_minor": 0
      },
      "text/plain": [
       "  0%|          | 0/3 [00:00<?, ?it/s]"
      ]
     },
     "metadata": {},
     "output_type": "display_data"
    },
    {
     "data": {
      "application/vnd.jupyter.widget-view+json": {
       "model_id": "",
       "version_major": 2,
       "version_minor": 0
      },
      "text/plain": [
       "  0%|          | 0/3 [00:00<?, ?it/s]"
      ]
     },
     "metadata": {},
     "output_type": "display_data"
    },
    {
     "data": {
      "application/vnd.jupyter.widget-view+json": {
       "model_id": "",
       "version_major": 2,
       "version_minor": 0
      },
      "text/plain": [
       "  0%|          | 0/3 [00:00<?, ?it/s]"
      ]
     },
     "metadata": {},
     "output_type": "display_data"
    },
    {
     "data": {
      "application/vnd.jupyter.widget-view+json": {
       "model_id": "",
       "version_major": 2,
       "version_minor": 0
      },
      "text/plain": [
       "  0%|          | 0/3 [00:00<?, ?it/s]"
      ]
     },
     "metadata": {},
     "output_type": "display_data"
    },
    {
     "data": {
      "application/vnd.jupyter.widget-view+json": {
       "model_id": "",
       "version_major": 2,
       "version_minor": 0
      },
      "text/plain": [
       "  0%|          | 0/3 [00:00<?, ?it/s]"
      ]
     },
     "metadata": {},
     "output_type": "display_data"
    },
    {
     "data": {
      "application/vnd.jupyter.widget-view+json": {
       "model_id": "",
       "version_major": 2,
       "version_minor": 0
      },
      "text/plain": [
       "  0%|          | 0/3 [00:00<?, ?it/s]"
      ]
     },
     "metadata": {},
     "output_type": "display_data"
    },
    {
     "data": {
      "application/vnd.jupyter.widget-view+json": {
       "model_id": "",
       "version_major": 2,
       "version_minor": 0
      },
      "text/plain": [
       "  0%|          | 0/3 [00:00<?, ?it/s]"
      ]
     },
     "metadata": {},
     "output_type": "display_data"
    },
    {
     "name": "stderr",
     "output_type": "stream",
     "text": [
      "Saving tracebacks of caught errors to /Users/robertstein/Data/winter/_error_stack.txt\n",
      "Saving tracebacks of caught errors to /Users/robertstein/Data/winter/_error_stack.tsv\n",
      "100%|████████████████████████████████████████████████████████████████████████████████████████████████| 6/6 [00:24<00:00,  4.05s/it]\n"
     ]
    }
   ],
   "source": [
    "for jd in tqdm(sorted(set(df[\"jd\"]))):\n",
    "    pipe = get_pipeline(\"WINTER\", selected_configurations=\"name_candidates\")\n",
    "\n",
    "    dataset = Dataset()\n",
    "    \n",
    "    df_sub = df[df[\"jd\"] == jd]\n",
    "    df_sub.replace({np.nan: None}, inplace=True)\n",
    "\n",
    "    # Deprecate old candidates\n",
    "    for stackid in set(df_sub[\"stackid\"]):\n",
    "        dbconstraints = DBQueryConstraints()\n",
    "        dbconstraints.add_constraint(\n",
    "            column=\"stackid\",\n",
    "            accepted_values=stackid,\n",
    "        )\n",
    "        _update_database_entry(\n",
    "            update_dict={\"deprecated\": True},\n",
    "            sql_table=Candidate.sql_model,\n",
    "            db_constraints=dbconstraints,\n",
    "        )\n",
    "\n",
    "    metadata = {\n",
    "        \"RAWPATH\": \"history\",\n",
    "        \"BASENAME\": \"history\",\n",
    "        \"CALSTEPS\": \"\",\n",
    "        \"DATE-OBS\": Time(jd, format=\"jd\").isot,\n",
    "        \"utctime\": Time(jd, format=\"jd\").isot,\n",
    "        \"diffmaglim\": (df_sub[\"magpsf\"] + df_sub[\"magfromlim\"]).iloc[0],\n",
    "        \"jd\": jd\n",
    "    }\n",
    "    df_sub[\"DATE-OBS\"] = Time(jd, format=\"jd\").isot\n",
    "    # df_sub[\"diffmaglim\"] = np.nan\n",
    "\n",
    "    n_chunk = 10\n",
    "\n",
    "    for df_chunk in [df_sub[i:i+n_chunk] for i in range(0,df_sub.shape[0],n_chunk)][:3]:\n",
    "\n",
    "        df_chunk.reset_index(inplace=True)\n",
    "        \n",
    "        source_table = SourceTable(source_list=df_chunk, metadata=metadata)\n",
    "        batch = SourceBatch()\n",
    "        batch.append(source_table)\n",
    "        dataset.append(batch)\n",
    "\n",
    "    batches, errorstack = pipe.reduce_images(dataset=dataset, catch_all_errors=False, selected_configurations=[\"name_candidates\"])\n",
    "    # print(errorstack.summarise_error_stack(verbose=True))"
   ]
  },
  {
   "cell_type": "code",
   "execution_count": null,
   "id": "fb16c1f0-943a-46e6-87bf-934abf385f8f",
   "metadata": {},
   "outputs": [],
   "source": []
  }
 ],
 "metadata": {
  "kernelspec": {
   "display_name": "mirar",
   "language": "python",
   "name": "mirar"
  },
  "language_info": {
   "codemirror_mode": {
    "name": "ipython",
    "version": 3
   },
   "file_extension": ".py",
   "mimetype": "text/x-python",
   "name": "python",
   "nbconvert_exporter": "python",
   "pygments_lexer": "ipython3",
   "version": "3.11.3"
  }
 },
 "nbformat": 4,
 "nbformat_minor": 5
}
