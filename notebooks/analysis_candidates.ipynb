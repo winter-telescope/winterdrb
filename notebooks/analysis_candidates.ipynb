{
 "cells": [
  {
   "cell_type": "code",
   "execution_count": 13,
   "id": "61b20029",
   "metadata": {},
   "outputs": [],
   "source": [
    "# from pathlib import Path\n",
    "# import pandas as pd\n",
    "# import json\n",
    "# import pickle\n",
    "# from mirar.processors.sources.source_loader import load_source_table\n",
    "# from mirar.processors.sources.source_exporter import save_source_table\n",
    "# from mirar.data.utils import decode_img\n",
    "import matplotlib.pyplot as plt\n",
    "import numpy as np\n",
    "import pandas as pd\n",
    "# from astropy import units as u\n",
    "# from astropy import visualization\n",
    "# from astropy.io import fits\n",
    "# from astropy.time import Time\n",
    "from matplotlib.colors import Normalize\n",
    "from matplotlib.ticker import MultipleLocator\n",
    "from matplotlib.backends.backend_pdf import PdfPages\n",
    "import fastavro\n",
    "from fastavro import reader\n",
    "# %matplotlib inline\n",
    "\n",
    "from winterdrb.paths import get_combined_avro_path, get_pdf_path\n",
    "from winterdrb.utils import parse_night_data\n",
    "from winterdrb.plot import generate_single_page\n",
    "from winterdrb.models import RealBogus\n",
    "from winterdrb.filtering import apply_clean_filter\n",
    "from winterdrb.database.populate import populate_night\n",
    "from tqdm import tqdm\n",
    "\n",
    "# from winterdrb.filtering"
   ]
  },
  {
   "cell_type": "code",
   "execution_count": 14,
   "id": "7fedded9-1a03-4914-b5da-c74967d65204",
   "metadata": {},
   "outputs": [
    {
     "ename": "TypeError",
     "evalue": "populate_night() missing 1 required positional argument: 'ann_fields'",
     "output_type": "error",
     "traceback": [
      "\u001b[0;31m---------------------------------------------------------------------------\u001b[0m",
      "\u001b[0;31mTypeError\u001b[0m                                 Traceback (most recent call last)",
      "Cell \u001b[0;32mIn[14], line 4\u001b[0m\n\u001b[1;32m      1\u001b[0m night \u001b[38;5;241m=\u001b[39m \u001b[38;5;124m\"\u001b[39m\u001b[38;5;124m20230913\u001b[39m\u001b[38;5;124m\"\u001b[39m\n\u001b[1;32m      2\u001b[0m res \u001b[38;5;241m=\u001b[39m parse_night_data(night)\n\u001b[0;32m----> 4\u001b[0m \u001b[43mpopulate_night\u001b[49m\u001b[43m(\u001b[49m\u001b[43mnight\u001b[49m\u001b[43m)\u001b[49m\n",
      "\u001b[0;31mTypeError\u001b[0m: populate_night() missing 1 required positional argument: 'ann_fields'"
     ]
    }
   ],
   "source": [
    "night = \"20230913\"\n",
    "res = parse_night_data(night)"
   ]
  },
  {
   "cell_type": "code",
   "execution_count": 4,
   "id": "61dcbc0f-22b0-4885-8d79-302ca2a7f025",
   "metadata": {},
   "outputs": [
    {
     "name": "stdout",
     "output_type": "stream",
     "text": [
      "['objectid', 'cutout_science', 'cutout_template', 'cutout_difference', 'prv_candidates', 'candid', 'deprecated', 'jd', 'fid', 'exptime', 'ndethist', 'jdstarthist', 'jdendhist', 'progname', 'programid', 'isdiffpos', 'field', 'ra', 'dec', 'magzpsci', 'magzpsciunc', 'magzpscirms', 'diffmaglim', 'magpsf', 'sigmapsf', 'chipsf', 'magap', 'sigmagap', 'magapbig', 'sigmagapbig', 'magdiff', 'magfromlim', 'distnr', 'magnr', 'sigmagnr', 'xpos', 'ypos', 'sky', 'fwhm', 'classtar', 'mindtoedge', 'seeratio', 'aimage', 'bimage', 'aimagerat', 'bimagerat', 'elong', 'nneg', 'nbad', 'sumrat', 'dsnrms', 'ssnrms', 'dsdiff', 'scorr', 'clrcoeff', 'clrcounc', 'zpclrcov', 'zpmed', 'clrmed', 'clrrms', 'rb', 'rbversion', 'ssdistnr', 'ssmagnr', 'ssnamenr', 'tooflag', 'nmtchps', 'psra1', 'psdec1', 'psobjectid1', 'sgmag1', 'srmag1', 'simag1', 'szmag1', 'sgscore1', 'distpsnr1', 'psobjectid2', 'sgmag2', 'srmag2', 'simag2', 'szmag2', 'sgscore2', 'distpsnr2', 'psobjectid3', 'sgmag3', 'srmag3', 'simag3', 'szmag3', 'sgscore3', 'distpsnr3', 'nmtchtm', 'tmjmag1', 'tmhmag1', 'tmkmag1', 'tmobjectid1', 'tmjmag2', 'tmhmag2', 'tmkmag2', 'tmobjectid2', 'tmjmag3', 'tmhmag3', 'tmkmag3', 'tmobjectid3', 'neargaia', 'neargaiabright', 'maggaia', 'maggaiabright']\n"
     ]
    }
   ],
   "source": [
    "print([x for x in res.columns])"
   ]
  },
  {
   "cell_type": "code",
   "execution_count": 5,
   "id": "ae77090d-11f7-4017-a27b-d66bdb4c99fd",
   "metadata": {},
   "outputs": [
    {
     "name": "stdout",
     "output_type": "stream",
     "text": [
      "objectid                                                   WNTR23aaasb\n",
      "cutout_science       b'\\x1f\\x8b\\x08\\x00\\xc7\\xc7\\x08e\\x02\\xff\\xec\\xb...\n",
      "cutout_template      b'\\x1f\\x8b\\x08\\x00\\xc7\\xc7\\x08e\\x02\\xff\\xec\\xb...\n",
      "cutout_difference    b'\\x1f\\x8b\\x08\\x00\\xc7\\xc7\\x08e\\x02\\xff\\xec\\xb...\n",
      "prv_candidates                    jd     magpsf  sigmapsf\n",
      "0  2.4602...\n",
      "candid                                                          100304\n",
      "deprecated                                                       False\n",
      "jd                                                      2460201.737576\n",
      "fid                                                                  2\n",
      "exptime                                                          600.0\n",
      "ndethist                                                             0\n",
      "jdstarthist                                             2460201.737576\n",
      "jdendhist                                               2460201.737576\n",
      "progname                                                      2023A007\n",
      "programid                                                            1\n",
      "isdiffpos                                                         True\n",
      "field                                                             9472\n",
      "ra                                                          306.270337\n",
      "dec                                                          32.417815\n",
      "magzpsci                                                     26.053757\n",
      "magzpsciunc                                                   0.052959\n",
      "magzpscirms                                                       None\n",
      "diffmaglim                                                   17.803555\n",
      "magpsf                                                       15.796761\n",
      "sigmapsf                                                      0.062986\n",
      "chipsf                                                        6.614336\n",
      "magap                                                        15.238503\n",
      "sigmagap                                                      0.152579\n",
      "magapbig                                                     12.102598\n",
      "sigmagapbig                                                   0.060651\n",
      "magdiff                                                       0.558257\n",
      "magfromlim                                                    2.006794\n",
      "distnr                                                            None\n",
      "magnr                                                             None\n",
      "sigmagnr                                                          None\n",
      "xpos                                                        368.331116\n",
      "ypos                                                        126.079506\n",
      "sky                                                               None\n",
      "fwhm                                                          4.676736\n",
      "classtar                                                          None\n",
      "mindtoedge                                                  126.079506\n",
      "seeratio                                                          None\n",
      "aimage                                                        0.913561\n",
      "bimage                                                        0.679339\n",
      "aimagerat                                                     0.195341\n",
      "bimagerat                                                     0.145259\n",
      "elong                                                         1.344779\n",
      "nneg                                                                 9\n",
      "nbad                                                                 0\n",
      "sumrat                                                        0.782177\n",
      "dsnrms                                                            None\n",
      "ssnrms                                                            None\n",
      "dsdiff                                                            None\n",
      "scorr                                                        12.411766\n",
      "clrcoeff                                                          None\n",
      "clrcounc                                                          None\n",
      "zpclrcov                                                          None\n",
      "zpmed                                                             None\n",
      "clrmed                                                            None\n",
      "clrrms                                                            None\n",
      "rb                                                                None\n",
      "rbversion                                                         None\n",
      "ssdistnr                                                          None\n",
      "ssmagnr                                                           None\n",
      "ssnamenr                                                          None\n",
      "tooflag                                                          False\n",
      "nmtchps                                                              3\n",
      "psra1                                                       306.270782\n",
      "psdec1                                                       32.417736\n",
      "psobjectid1                                       146903068527558656.0\n",
      "sgmag1                                                       19.991199\n",
      "srmag1                                                       18.252199\n",
      "simag1                                                         17.2848\n",
      "szmag1                                                       16.627399\n",
      "sgscore1                                                          None\n",
      "distpsnr1                                                         None\n",
      "psobjectid2                                       146903068527558656.0\n",
      "sgmag2                                                         22.1579\n",
      "srmag2                                                       20.858101\n",
      "simag2                                                         19.8978\n",
      "szmag2                                                         19.3419\n",
      "sgscore2                                                          None\n",
      "distpsnr2                                                         None\n",
      "psobjectid3                                       146903068527558656.0\n",
      "sgmag3                                                       22.097601\n",
      "srmag3                                                       20.868601\n",
      "simag3                                                       20.155399\n",
      "szmag3                                                         19.6604\n",
      "sgscore3                                                          None\n",
      "distpsnr3                                                         None\n",
      "nmtchtm                                                              3\n",
      "tmjmag1                                                         14.358\n",
      "tmhmag1                                                         13.446\n",
      "tmkmag1                                                         13.138\n",
      "tmobjectid1                                          20250498+3225039 \n",
      "tmjmag2                                                      16.422001\n",
      "tmhmag2                                                         15.648\n",
      "tmkmag2                                                         15.895\n",
      "tmobjectid2                                          20250532+3225096 \n",
      "tmjmag3                                                         13.576\n",
      "tmhmag3                                                         12.826\n",
      "tmkmag3                                                         12.629\n",
      "tmobjectid3                                          20250567+3225013 \n",
      "neargaia                                                          None\n",
      "neargaiabright                                                    None\n",
      "maggaia                                                           None\n",
      "maggaiabright                                                     None\n",
      "Name: 0, dtype: object\n"
     ]
    }
   ],
   "source": [
    "with pd.option_context('display.max_rows', None, 'display.max_columns', None):  # more options can be specified also\n",
    "    print(res.iloc[0])"
   ]
  },
  {
   "cell_type": "code",
   "execution_count": 6,
   "id": "f864058f-4e9e-41e7-afab-214783f98e6a",
   "metadata": {},
   "outputs": [],
   "source": [
    "# mag_diff = 0.5\n",
    "\n",
    "# # masks = [\n",
    "# #     res[\"nbad\"] < 2,\n",
    "# #     res[\"elong\"] < 1.8,\n",
    "# #     res[\"magdiff\"] < mag_diff,\n",
    "# #     res[\"magdiff\"] > -mag_diff,\n",
    "# #     res[\"fwhm\"] < 4.,\n",
    "# #     res[\"sumrat\"] > 0.8,\n",
    "# #     res[\"chipsf\"] < 10.0,\n",
    "# # ]\n",
    "\n",
    "# masks = [\n",
    "#     res[\"nbad\"] < 2,\n",
    "#     res[\"chipsf\"] < 3.0,\n",
    "#     res[\"sumrat\"] > 0.7,\n",
    "#     res[\"fwhm\"] < 10.,\n",
    "#     # res[\"magdiff\"] < 2.0,\n",
    "#     res[\"magdiff\"] < 1.6,\n",
    "#     res[\"magdiff\"] > -1.0,\n",
    "#     res[\"mindtoedge\"] > 50.0,\n",
    "# ]\n",
    "# mask = np.ones(len(res), dtype=bool)\n",
    "# for new_mask in masks:\n",
    "#     mask *= new_mask\n",
    "    \n",
    "# print(f\"{np.sum(mask)} / {len(mask)} detections pass all cuts\")\n",
    "# cut = res[mask]\n",
    "\n",
    "cut = apply_clean_filter(res)\n",
    "# cut"
   ]
  },
  {
   "cell_type": "code",
   "execution_count": 15,
   "id": "7a45b44a-77e2-4c0f-aef0-6268d536934c",
   "metadata": {},
   "outputs": [
    {
     "name": "stderr",
     "output_type": "stream",
     "text": [
      "100%|█████████████████████████████████████████| 486/486 [01:28<00:00,  5.48it/s]\n"
     ]
    }
   ],
   "source": [
    "ann_fields = [\n",
    "    \"ra\", \"dec\", \"fid\", \"field\",  \"candid\",\n",
    "    \"neargaia\", 'neargaiabright', 'maggaia', 'maggaiabright', \n",
    "    \"distpsnr1\", \"tmjmag1\",\n",
    "    \"nneg\", \"elong\", \"fwhm\",  \"sumrat\",\n",
    "    \"magzpsci\", \"magap\", \"magapbig\", \"magdiff\", \"magfromlim\",\n",
    "    \"classtar\", \"nbad\", \"nmtchps\", \"scorr\", \"chipsf\", \"mindtoedge\"\n",
    "]\n",
    "\n",
    "\n",
    "populate_night(night, ann_fields=ann_fields)"
   ]
  },
  {
   "cell_type": "code",
   "execution_count": 8,
   "id": "f8c14e67-0197-4d8f-a137-48eb195e80cc",
   "metadata": {},
   "outputs": [],
   "source": [
    "# outpath = get_pdf_path(night)\n",
    "\n",
    "# print(f\"Saving PDF to {outpath}\")\n",
    "\n",
    "# with PdfPages(outpath) as pdf:\n",
    "#     for i, row in tqdm(cut.iterrows(), total=len(cut)):\n",
    "#         generate_single_page(row, ann_fields=ann_fields)\n",
    "#         pdf.savefig()\n",
    "#         plt.close()"
   ]
  },
  {
   "cell_type": "code",
   "execution_count": 12,
   "id": "6e76c631-a4fb-4f7d-9422-660dcb6cba05",
   "metadata": {},
   "outputs": [
    {
     "name": "stderr",
     "output_type": "stream",
     "text": [
      "  0%|                                                   | 0/486 [00:00<?, ?it/s]\n"
     ]
    },
    {
     "ename": "NameError",
     "evalue": "name 'get_single_pdf_path' is not defined",
     "output_type": "error",
     "traceback": [
      "\u001b[0;31m---------------------------------------------------------------------------\u001b[0m",
      "\u001b[0;31mNameError\u001b[0m                                 Traceback (most recent call last)",
      "Cell \u001b[0;32mIn[12], line 11\u001b[0m\n\u001b[1;32m      8\u001b[0m avropath \u001b[38;5;241m=\u001b[39m get_combined_avro_path(night)\n\u001b[1;32m     10\u001b[0m \u001b[38;5;28;01mfor\u001b[39;00m i, row \u001b[38;5;129;01min\u001b[39;00m tqdm(cut\u001b[38;5;241m.\u001b[39miterrows(), total\u001b[38;5;241m=\u001b[39m\u001b[38;5;28mlen\u001b[39m(cut)):\n\u001b[0;32m---> 11\u001b[0m     savepath \u001b[38;5;241m=\u001b[39m \u001b[43mget_single_pdf_path\u001b[49m(night, row[\u001b[38;5;124m'\u001b[39m\u001b[38;5;124mcandid\u001b[39m\u001b[38;5;124m'\u001b[39m])\n\u001b[1;32m     13\u001b[0m     generate_single_page(row, ann_fields\u001b[38;5;241m=\u001b[39mann_fields)\n\u001b[1;32m     14\u001b[0m     plt\u001b[38;5;241m.\u001b[39msavefig(savepath)\n",
      "\u001b[0;31mNameError\u001b[0m: name 'get_single_pdf_path' is not defined"
     ]
    }
   ],
   "source": [
    "# cut = cut.iloc[:30]\n"
   ]
  },
  {
   "cell_type": "code",
   "execution_count": 9,
   "id": "9c191f5c-2c87-4ef1-87f9-48092d84a109",
   "metadata": {},
   "outputs": [],
   "source": [
    "from mirar.database.transactions import select_from_table\n",
    "from mirar.database.constraints import DBQueryConstraints\n",
    "\n",
    "def get_night_db_entries(night, include_classified: bool = False):\n",
    "    constraint = DBQueryConstraints(\"night\", night, \"=\")\n",
    "\n",
    "    if not include_classified:\n",
    "        constraint.add_constraint(\"humanclass\", 1, \"<\")\n",
    "\n",
    "    return select_from_table(constraint, RealBogus.sql_model)\n",
    "\n",
    "df = get_night_db_entries(night)\n",
    "# def get_entries_for_night(night):\n"
   ]
  },
  {
   "cell_type": "code",
   "execution_count": 10,
   "id": "e09f8907-5c85-489d-b2b0-ed300432a0a4",
   "metadata": {},
   "outputs": [
    {
     "data": {
      "text/html": [
       "<div>\n",
       "<style scoped>\n",
       "    .dataframe tbody tr th:only-of-type {\n",
       "        vertical-align: middle;\n",
       "    }\n",
       "\n",
       "    .dataframe tbody tr th {\n",
       "        vertical-align: top;\n",
       "    }\n",
       "\n",
       "    .dataframe thead th {\n",
       "        text-align: right;\n",
       "    }\n",
       "</style>\n",
       "<table border=\"1\" class=\"dataframe\">\n",
       "  <thead>\n",
       "    <tr style=\"text-align: right;\">\n",
       "      <th></th>\n",
       "      <th>candid</th>\n",
       "      <th>night</th>\n",
       "      <th>objectid</th>\n",
       "      <th>pdfpath</th>\n",
       "      <th>avropath</th>\n",
       "      <th>humanclass</th>\n",
       "      <th>comment</th>\n",
       "    </tr>\n",
       "  </thead>\n",
       "  <tbody>\n",
       "  </tbody>\n",
       "</table>\n",
       "</div>"
      ],
      "text/plain": [
       "Empty DataFrame\n",
       "Columns: [candid, night, objectid, pdfpath, avropath, humanclass, comment]\n",
       "Index: []"
      ]
     },
     "execution_count": 10,
     "metadata": {},
     "output_type": "execute_result"
    }
   ],
   "source": [
    "df"
   ]
  },
  {
   "cell_type": "code",
   "execution_count": 11,
   "id": "1b91c182-01bc-460c-a5fc-fda5d5989cce",
   "metadata": {},
   "outputs": [],
   "source": [
    "import pandas as pd\n",
    "from mirar.database.transactions import _update_database_entry\n",
    "from mirar.database.constraints import DBQueryConstraints\n",
    "\n",
    "from winterdrb.models import RB_CLASS\n",
    "\n",
    "\n",
    "def classify_source(candid, new_classification: int):\n",
    "\n",
    "    assert new_classification in RB_CLASS\n",
    "\n",
    "    con = DBQueryConstraints(\"candid\", candid, \"=\")\n",
    "\n",
    "    update_dict = {\"humanclass\": new_classification}\n",
    "\n",
    "    _update_database_entry(update_dict, con, RealBogus.sql_model)"
   ]
  },
  {
   "cell_type": "code",
   "execution_count": null,
   "id": "35b1c3c3-38e6-4b7f-b41b-7f229c7ba1b2",
   "metadata": {},
   "outputs": [],
   "source": [
    "classify_source(94355, 2)"
   ]
  },
  {
   "cell_type": "code",
   "execution_count": null,
   "id": "40ff14a8-d7b0-4097-9224-bf23b41fc15d",
   "metadata": {},
   "outputs": [],
   "source": []
  }
 ],
 "metadata": {
  "kernelspec": {
   "display_name": "winterdrb",
   "language": "python",
   "name": "winterdrb"
  },
  "language_info": {
   "codemirror_mode": {
    "name": "ipython",
    "version": 3
   },
   "file_extension": ".py",
   "mimetype": "text/x-python",
   "name": "python",
   "nbconvert_exporter": "python",
   "pygments_lexer": "ipython3",
   "version": "3.11.5"
  }
 },
 "nbformat": 4,
 "nbformat_minor": 5
}
