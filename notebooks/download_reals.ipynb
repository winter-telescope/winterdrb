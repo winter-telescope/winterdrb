{
 "cells": [
  {
   "cell_type": "code",
   "execution_count": 1,
   "id": "b8981036-bd8a-482b-84e6-f5cfa7f88c78",
   "metadata": {},
   "outputs": [],
   "source": [
    "import os\n",
    "from dotenv import load_dotenv\n",
    "from sshtunnel import SSHTunnelForwarder\n",
    "from tqdm import tqdm\n",
    "import logging"
   ]
  },
  {
   "cell_type": "code",
   "execution_count": 2,
   "id": "b42e90f7-7124-4450-8adb-106eda93a6e6",
   "metadata": {},
   "outputs": [],
   "source": [
    "logging.basicConfig(level=\"INFO\")"
   ]
  },
  {
   "cell_type": "code",
   "execution_count": 3,
   "id": "41c4ff57-8107-477b-bc6c-0b2e3b55ccbd",
   "metadata": {},
   "outputs": [
    {
     "data": {
      "text/plain": [
       "True"
      ]
     },
     "execution_count": 3,
     "metadata": {},
     "output_type": "execute_result"
    }
   ],
   "source": [
    "load_dotenv()"
   ]
  },
  {
   "cell_type": "code",
   "execution_count": 4,
   "id": "ff8e61b8-20e7-43ee-a55d-108c7856b023",
   "metadata": {},
   "outputs": [
    {
     "name": "stderr",
     "output_type": "stream",
     "text": [
      "INFO:paramiko.transport:Connected (version 2.0, client OpenSSH_8.0)\n",
      "INFO:paramiko.transport:Authentication (publickey) successful!\n",
      "INFO:paramiko.transport:Connected (version 2.0, client OpenSSH_8.0)\n",
      "INFO:paramiko.transport:Authentication (publickey) successful!\n",
      "INFO:paramiko.transport:Connected (version 2.0, client OpenSSH_8.0)\n",
      "INFO:paramiko.transport:Authentication (publickey) successful!\n",
      "INFO:paramiko.transport:Connected (version 2.0, client OpenSSH_8.0)\n",
      "INFO:paramiko.transport:Authentication (publickey) successful!\n",
      "INFO:paramiko.transport:Connected (version 2.0, client OpenSSH_8.0)\n",
      "INFO:paramiko.transport:Authentication (publickey) successful!\n",
      "INFO:paramiko.transport:Connected (version 2.0, client OpenSSH_8.0)\n",
      "INFO:paramiko.transport:Authentication (publickey) successful!\n",
      "INFO:paramiko.transport:Connected (version 2.0, client OpenSSH_8.0)\n",
      "INFO:paramiko.transport:Authentication (publickey) successful!\n",
      "INFO:paramiko.transport:Connected (version 2.0, client OpenSSH_8.0)\n",
      "INFO:paramiko.transport:Authentication (publickey) successful!\n",
      "INFO:paramiko.transport:Connected (version 2.0, client OpenSSH_8.0)\n",
      "INFO:paramiko.transport:Authentication (publickey) successful!\n",
      "INFO:paramiko.transport:Connected (version 2.0, client OpenSSH_8.0)\n",
      "INFO:paramiko.transport:Authentication (publickey) successful!\n",
      "INFO:paramiko.transport:Connected (version 2.0, client OpenSSH_8.0)\n",
      "INFO:paramiko.transport:Authentication (publickey) successful!\n",
      "INFO:paramiko.transport:Connected (version 2.0, client OpenSSH_8.0)\n",
      "INFO:paramiko.transport:Authentication (publickey) successful!\n",
      "INFO:paramiko.transport:Connected (version 2.0, client OpenSSH_8.0)\n",
      "INFO:paramiko.transport:Authentication (publickey) successful!\n",
      "INFO:paramiko.transport:Connected (version 2.0, client OpenSSH_8.0)\n",
      "INFO:paramiko.transport:Authentication (publickey) successful!\n",
      "INFO:paramiko.transport:Connected (version 2.0, client OpenSSH_8.0)\n",
      "INFO:paramiko.transport:Authentication (publickey) successful!\n",
      "INFO:paramiko.transport:Connected (version 2.0, client OpenSSH_8.0)\n",
      "INFO:paramiko.transport:Authentication (publickey) successful!\n",
      "INFO:paramiko.transport:Connected (version 2.0, client OpenSSH_8.0)\n",
      "INFO:paramiko.transport:Authentication (publickey) successful!\n",
      "INFO:paramiko.transport:Connected (version 2.0, client OpenSSH_8.0)\n",
      "INFO:paramiko.transport:Authentication (publickey) successful!\n",
      "INFO:paramiko.transport:Connected (version 2.0, client OpenSSH_8.0)\n",
      "INFO:paramiko.transport:Authentication (publickey) successful!\n",
      "INFO:paramiko.transport:Connected (version 2.0, client OpenSSH_8.0)\n",
      "INFO:paramiko.transport:Authentication (publickey) successful!\n",
      "INFO:paramiko.transport:Connected (version 2.0, client OpenSSH_8.0)\n",
      "INFO:paramiko.transport:Authentication (publickey) successful!\n",
      "INFO:paramiko.transport:Connected (version 2.0, client OpenSSH_8.0)\n",
      "INFO:paramiko.transport:Authentication (publickey) successful!\n",
      "INFO:paramiko.transport:Connected (version 2.0, client OpenSSH_8.0)\n",
      "INFO:paramiko.transport:Authentication (publickey) successful!\n",
      "INFO:paramiko.transport:Connected (version 2.0, client OpenSSH_8.0)\n",
      "INFO:paramiko.transport:Authentication (publickey) successful!\n",
      "INFO:paramiko.transport:Connected (version 2.0, client OpenSSH_8.0)\n",
      "INFO:paramiko.transport:Authentication (publickey) successful!\n"
     ]
    }
   ],
   "source": [
    "# SSH tunnel into winter db\n",
    "REMOTE_HOST = os.getenv(\"REMOTE_HOST\")\n",
    "REMOTE_SSH_PORT = int(os.getenv(\"REMOTE_SSH_PORT\", 22))\n",
    "REMOTE_PSQL_PORT = int(os.getenv(\"REMOTE_SSH_PORT\", 5432))\n",
    "PORT = int(os.getenv(\"DB_PORT\", 5433))\n",
    "server = SSHTunnelForwarder((REMOTE_HOST, REMOTE_SSH_PORT),\n",
    "         # ssh_username=\"loki\",\n",
    "         # ssh_password=REMOTE_PASSWORD,\n",
    "         remote_bind_address=('localhost', REMOTE_PSQL_PORT),\n",
    "         local_bind_address=('localhost', int(PORT))\n",
    ")\n",
    "server.start()"
   ]
  },
  {
   "cell_type": "code",
   "execution_count": 5,
   "id": "82f25c3f-a6ae-45cd-bbd7-e5ca23159d34",
   "metadata": {},
   "outputs": [
    {
     "name": "stderr",
     "output_type": "stream",
     "text": [
      "INFO:mirar.paths:Environment variables were automatically loaded from .env file.\n",
      "INFO:mirar.paths:No raw data directory specified. Run 'export RAW_DATA_DIR=/path/to/data' to set. The raw data directory will need to be specified manually for path function.The raw directory is being set to /Users/rdstein.\n",
      "INFO:mirar.paths:No output data directory specified. Run 'export OUTPUT_DATA_DIR=/path/to/data' to set this. The output directory is being set to /Users/rdstein.\n",
      "WARNING:mirar.pipelines.winter.config:No specific calibration directory set. Using /Users/rdstein as the directory for CalHunter. If you want to change it, set the WINTER_CAL_DIRECTORY environment variable.\n",
      "WARNING:mirar.processors.astromatic.scamp.scamp:PLPLOT_DEV environment variable must be set to make scamp checkplots. Will not make any checkplots.\n",
      "WARNING:mirar.processors.astromatic.scamp.scamp:PLPLOT_DEV environment variable must be set to make scamp checkplots. Will not make any checkplots.\n"
     ]
    }
   ],
   "source": [
    "from winterdrb.download import download_by_name\n",
    "from winterdrb.utils import get_class_from_google, combine_bogus, combine_reals"
   ]
  },
  {
   "cell_type": "code",
   "execution_count": 6,
   "id": "7bf7f88d-94d5-4c88-a20a-49d37666fb59",
   "metadata": {},
   "outputs": [
    {
     "name": "stderr",
     "output_type": "stream",
     "text": [
      "  9%|████                                        | 8/87 [00:47<06:44,  5.12s/it]INFO:paramiko.transport.sftp:[chan 0] Opened sftp connection (server version 3)\n",
      "INFO:paramiko.transport.sftp:[chan 0] sftp session closed.\n",
      " 33%|██████████████▎                            | 29/87 [03:56<06:38,  6.88s/it]ERROR:winterdrb.download.avro:Failed to read avro file /Users/rdstein/Data/winterdrb/avro/avro_cache/WINTERcamera_20240107-022507-901_mef_3_0_0_stack.resamp.diff.avro. Ensure the file is a valid avro file. cannot read header - is it an avro file?\n",
      " 52%|██████████████████████▏                    | 45/87 [05:37<05:34,  7.97s/it]INFO:paramiko.transport.sftp:[chan 0] Opened sftp connection (server version 3)\n",
      "INFO:paramiko.transport.sftp:[chan 0] sftp session closed.\n",
      "INFO:paramiko.transport.sftp:[chan 0] Opened sftp connection (server version 3)\n",
      "INFO:paramiko.transport.sftp:[chan 0] sftp session closed.\n",
      "INFO:paramiko.transport:Connected (version 2.0, client OpenSSH_8.0)\n",
      "INFO:paramiko.transport:Authentication (publickey) successful!\n",
      "INFO:paramiko.transport.sftp:[chan 0] Opened sftp connection (server version 3)\n",
      "INFO:paramiko.transport.sftp:[chan 0] sftp session closed.\n",
      "INFO:paramiko.transport.sftp:[chan 0] Opened sftp connection (server version 3)\n",
      "INFO:paramiko.transport.sftp:[chan 0] sftp session closed.\n",
      "INFO:paramiko.transport:Connected (version 2.0, client OpenSSH_8.0)\n",
      "INFO:paramiko.transport:Authentication (publickey) successful!\n",
      "INFO:paramiko.transport.sftp:[chan 0] Opened sftp connection (server version 3)\n",
      "INFO:paramiko.transport.sftp:[chan 0] sftp session closed.\n",
      "INFO:paramiko.transport.sftp:[chan 0] Opened sftp connection (server version 3)\n",
      "INFO:paramiko.transport.sftp:[chan 0] sftp session closed.\n",
      "INFO:paramiko.transport:Connected (version 2.0, client OpenSSH_8.0)\n",
      "INFO:paramiko.transport:Authentication (publickey) successful!\n",
      "INFO:paramiko.transport.sftp:[chan 0] Opened sftp connection (server version 3)\n",
      "INFO:paramiko.transport.sftp:[chan 0] sftp session closed.\n",
      "INFO:paramiko.transport.sftp:[chan 0] Opened sftp connection (server version 3)\n",
      "INFO:paramiko.transport.sftp:[chan 0] sftp session closed.\n",
      "INFO:paramiko.transport:Connected (version 2.0, client OpenSSH_8.0)\n",
      "INFO:paramiko.transport:Authentication (publickey) successful!\n",
      "INFO:paramiko.transport.sftp:[chan 0] Opened sftp connection (server version 3)\n",
      "INFO:paramiko.transport.sftp:[chan 0] sftp session closed.\n",
      "INFO:paramiko.transport.sftp:[chan 0] Opened sftp connection (server version 3)\n",
      "INFO:paramiko.transport.sftp:[chan 0] sftp session closed.\n",
      "INFO:paramiko.transport.sftp:[chan 0] Opened sftp connection (server version 3)\n",
      "INFO:paramiko.transport.sftp:[chan 0] sftp session closed.\n",
      "INFO:paramiko.transport:Connected (version 2.0, client OpenSSH_8.0)\n",
      "INFO:paramiko.transport:Authentication (publickey) successful!\n",
      "INFO:paramiko.transport.sftp:[chan 0] Opened sftp connection (server version 3)\n",
      "INFO:paramiko.transport.sftp:[chan 0] sftp session closed.\n",
      "INFO:paramiko.transport.sftp:[chan 0] Opened sftp connection (server version 3)\n",
      "INFO:paramiko.transport.sftp:[chan 0] sftp session closed.\n",
      "INFO:paramiko.transport.sftp:[chan 0] Opened sftp connection (server version 3)\n",
      "INFO:paramiko.transport.sftp:[chan 0] sftp session closed.\n",
      "INFO:paramiko.transport.sftp:[chan 0] Opened sftp connection (server version 3)\n",
      "INFO:paramiko.transport.sftp:[chan 0] sftp session closed.\n",
      "INFO:paramiko.transport.sftp:[chan 0] Opened sftp connection (server version 3)\n",
      "INFO:paramiko.transport.sftp:[chan 0] sftp session closed.\n",
      "INFO:paramiko.transport.sftp:[chan 0] Opened sftp connection (server version 3)\n",
      "INFO:paramiko.transport.sftp:[chan 0] sftp session closed.\n",
      "INFO:paramiko.transport.sftp:[chan 0] Opened sftp connection (server version 3)\n",
      "INFO:paramiko.transport.sftp:[chan 0] sftp session closed.\n",
      "INFO:paramiko.transport:Connected (version 2.0, client OpenSSH_8.0)\n",
      "INFO:paramiko.transport:Authentication (publickey) successful!\n",
      "INFO:paramiko.transport.sftp:[chan 0] Opened sftp connection (server version 3)\n",
      "INFO:paramiko.transport.sftp:[chan 0] sftp session closed.\n",
      "INFO:paramiko.transport.sftp:[chan 0] Opened sftp connection (server version 3)\n",
      "INFO:paramiko.transport.sftp:[chan 0] sftp session closed.\n",
      " 60%|█████████████████████████▋                 | 52/87 [07:38<04:41,  8.06s/it]INFO:paramiko.transport.sftp:[chan 0] Opened sftp connection (server version 3)\n",
      "INFO:paramiko.transport.sftp:[chan 0] sftp session closed.\n",
      "INFO:paramiko.transport:Connected (version 2.0, client OpenSSH_8.0)\n",
      "INFO:paramiko.transport:Authentication (publickey) successful!\n",
      "INFO:paramiko.transport.sftp:[chan 0] Opened sftp connection (server version 3)\n",
      "INFO:paramiko.transport.sftp:[chan 0] sftp session closed.\n",
      "INFO:paramiko.transport:Connected (version 2.0, client OpenSSH_8.0)\n",
      "INFO:paramiko.transport:Authentication (publickey) successful!\n",
      "INFO:paramiko.transport.sftp:[chan 0] Opened sftp connection (server version 3)\n",
      "INFO:paramiko.transport.sftp:[chan 0] sftp session closed.\n",
      "INFO:paramiko.transport:Connected (version 2.0, client OpenSSH_8.0)\n",
      "INFO:paramiko.transport:Authentication (publickey) successful!\n",
      "INFO:paramiko.transport.sftp:[chan 0] Opened sftp connection (server version 3)\n",
      "INFO:paramiko.transport.sftp:[chan 0] sftp session closed.\n",
      "INFO:paramiko.transport:Connected (version 2.0, client OpenSSH_8.0)\n",
      "INFO:paramiko.transport:Authentication (publickey) successful!\n",
      "INFO:paramiko.transport.sftp:[chan 0] Opened sftp connection (server version 3)\n",
      "INFO:paramiko.transport.sftp:[chan 0] sftp session closed.\n",
      " 63%|███████████████████████████▏               | 55/87 [08:12<04:41,  8.81s/it]INFO:paramiko.transport:Connected (version 2.0, client OpenSSH_8.0)\n",
      "INFO:paramiko.transport:Authentication (publickey) successful!\n",
      "INFO:paramiko.transport.sftp:[chan 0] Opened sftp connection (server version 3)\n",
      "INFO:paramiko.transport.sftp:[chan 0] sftp session closed.\n",
      " 75%|████████████████████████████████▏          | 65/87 [09:08<02:12,  6.04s/it]INFO:paramiko.transport.sftp:[chan 0] Opened sftp connection (server version 3)\n",
      "INFO:paramiko.transport.sftp:[chan 0] sftp session closed.\n",
      "INFO:paramiko.transport.sftp:[chan 0] Opened sftp connection (server version 3)\n",
      "INFO:paramiko.transport.sftp:[chan 0] sftp session closed.\n",
      "INFO:paramiko.transport.sftp:[chan 0] Opened sftp connection (server version 3)\n",
      "INFO:paramiko.transport.sftp:[chan 0] sftp session closed.\n",
      "INFO:paramiko.transport.sftp:[chan 0] Opened sftp connection (server version 3)\n",
      "INFO:paramiko.transport.sftp:[chan 0] sftp session closed.\n",
      "INFO:paramiko.transport.sftp:[chan 0] Opened sftp connection (server version 3)\n",
      "INFO:paramiko.transport.sftp:[chan 0] sftp session closed.\n",
      "INFO:paramiko.transport.sftp:[chan 0] Opened sftp connection (server version 3)\n",
      "INFO:paramiko.transport.sftp:[chan 0] sftp session closed.\n",
      " 86%|█████████████████████████████████████      | 75/87 [10:26<01:09,  5.81s/it]INFO:paramiko.transport.sftp:[chan 0] Opened sftp connection (server version 3)\n",
      "INFO:paramiko.transport.sftp:[chan 0] sftp session closed.\n",
      "INFO:paramiko.transport.sftp:[chan 0] Opened sftp connection (server version 3)\n",
      "INFO:paramiko.transport.sftp:[chan 0] sftp session closed.\n",
      "100%|███████████████████████████████████████████| 87/87 [11:59<00:00,  8.26s/it]\n",
      "INFO:winterdrb.utils.combine_avro:Found 87 candidate directories\n",
      "INFO:root:Found 179 individual entries\n",
      "INFO:root:Saving to /Users/rdstein/Data/winterdrb/avro/reals.parquet\n"
     ]
    }
   ],
   "source": [
    "real_df = get_class_from_google(real=True)\n",
    "for name in tqdm(list(set(real_df[\"#Winter name\"])), total=len(set(real_df[\"#Winter name\"]))):\n",
    "    download_by_name(name)\n",
    "combine_reals()"
   ]
  },
  {
   "cell_type": "code",
   "execution_count": 7,
   "id": "3dc38768-a60f-4ad7-bf17-150cbaf20987",
   "metadata": {},
   "outputs": [
    {
     "name": "stderr",
     "output_type": "stream",
     "text": [
      "100%|█████████████████████████████████████████████| 4/4 [02:27<00:00, 36.84s/it]\n",
      "INFO:winterdrb.utils.combine_avro:Found 4 candidate directories\n",
      "INFO:root:Found 69 individual entries\n",
      "INFO:root:Saving to /Users/rdstein/Data/winterdrb/avro/reals.parquet\n"
     ]
    }
   ],
   "source": [
    "bogus_df = get_class_from_google(real=False)\n",
    "for name in tqdm(list(set(bogus_df[\"#Winter name\"])), total=len(set(bogus_df[\"#Winter name\"]))):\n",
    "    download_by_name(name)\n",
    "combine_bogus()"
   ]
  },
  {
   "cell_type": "code",
   "execution_count": null,
   "id": "628c202b-ae74-4ce4-ba46-943af2e3e37d",
   "metadata": {},
   "outputs": [],
   "source": []
  }
 ],
 "metadata": {
  "kernelspec": {
   "display_name": "winterdrb",
   "language": "python",
   "name": "winterdrb"
  },
  "language_info": {
   "codemirror_mode": {
    "name": "ipython",
    "version": 3
   },
   "file_extension": ".py",
   "mimetype": "text/x-python",
   "name": "python",
   "nbconvert_exporter": "python",
   "pygments_lexer": "ipython3",
   "version": "3.12.11"
  }
 },
 "nbformat": 4,
 "nbformat_minor": 5
}
